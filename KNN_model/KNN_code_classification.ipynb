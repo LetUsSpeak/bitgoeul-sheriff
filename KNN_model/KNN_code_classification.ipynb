{
 "cells": [
  {
   "cell_type": "code",
   "execution_count": 152,
   "metadata": {},
   "outputs": [],
   "source": [
    "import os\n",
    "\n",
    "import numpy as np\n",
    "import pandas as pd\n",
    "\n",
    "import glob\n",
    "\n",
    "import time\n",
    "from tqdm import tqdm\n",
    "\n",
    "import librosa\n",
    "import librosa.display\n",
    "import soundfile as sf # librosa fails when reading files on Kaggle.\n",
    "\n",
    "\n",
    "import matplotlib.pyplot as plt\n",
    "import IPython.display as ipd\n",
    "\n",
    "from sklearn.model_selection import train_test_split\n",
    "from sklearn.preprocessing import StandardScaler\n",
    "from sklearn.decomposition import PCA\n",
    "from sklearn.neighbors import KNeighborsClassifier\n",
    "from sklearn.model_selection import GridSearchCV\n",
    "from sklearn.metrics import confusion_matrix"
   ]
  },
  {
   "cell_type": "code",
   "execution_count": 153,
   "metadata": {},
   "outputs": [],
   "source": [
    "file_names = glob.glob(\"./AnnotatedAudioFiles/*.wav\")\n",
    "file_names = sorted(file_names)"
   ]
  },
  {
   "cell_type": "code",
   "execution_count": 154,
   "metadata": {},
   "outputs": [
    {
     "name": "stdout",
     "output_type": "stream",
     "text": [
      "['./AnnotatedAudioFiles/code0_dating-violence_01.wav', './AnnotatedAudioFiles/code0_dating-violence_02.wav', './AnnotatedAudioFiles/code0_dating-violence_03.wav', './AnnotatedAudioFiles/code0_dating-violence_04.wav', './AnnotatedAudioFiles/code0_dating-violence_05.wav', './AnnotatedAudioFiles/code0_dating-violence_06.wav', './AnnotatedAudioFiles/code0_dating-violence_07.wav', './AnnotatedAudioFiles/code0_dating-violence_08.wav', './AnnotatedAudioFiles/code0_dating-violence_09.wav', './AnnotatedAudioFiles/code0_dating-violence_10.wav', './AnnotatedAudioFiles/code0_dating-violence_11.wav', './AnnotatedAudioFiles/code0_dating-violence_12.wav', './AnnotatedAudioFiles/code0_dating-violence_13.wav', './AnnotatedAudioFiles/code0_dating-violence_14.wav', './AnnotatedAudioFiles/code0_dating-violence_15.wav', './AnnotatedAudioFiles/code0_dating-violence_16.wav', './AnnotatedAudioFiles/code0_dating-violence_17.wav', './AnnotatedAudioFiles/code0_dating-violence_18.wav', './AnnotatedAudioFiles/code0_dating-violence_19.wav', './AnnotatedAudioFiles/code0_dating-violence_20.wav', './AnnotatedAudioFiles/code0_dating-violence_21.wav', './AnnotatedAudioFiles/code0_dating-violence_22.wav', './AnnotatedAudioFiles/code0_dating-violence_23.wav', './AnnotatedAudioFiles/code0_dating-violence_24.wav', './AnnotatedAudioFiles/code0_dating-violence_25.wav', './AnnotatedAudioFiles/code0_dating-violence_26.wav', './AnnotatedAudioFiles/code0_dating-violence_27.wav', './AnnotatedAudioFiles/code0_dating-violence_28.wav', './AnnotatedAudioFiles/code0_dating-violence_29.wav', './AnnotatedAudioFiles/code0_dating-violence_30.wav', './AnnotatedAudioFiles/code0_dating-violence_A01.wav', './AnnotatedAudioFiles/code0_dating-violence_A02.wav', './AnnotatedAudioFiles/code0_dating-violence_A03.wav', './AnnotatedAudioFiles/code0_dating-violence_A04.wav', './AnnotatedAudioFiles/code0_dating-violence_A05.wav', './AnnotatedAudioFiles/code0_dating-violence_A06.wav', './AnnotatedAudioFiles/code0_dating-violence_A07.wav', './AnnotatedAudioFiles/code0_dating-violence_A08.wav', './AnnotatedAudioFiles/code0_dating-violence_A09.wav', './AnnotatedAudioFiles/code0_dating-violence_A10.wav', './AnnotatedAudioFiles/code0_dating-violence_A11.wav', './AnnotatedAudioFiles/code0_dating-violence_A12.wav', './AnnotatedAudioFiles/code0_dating-violence_A13.wav', './AnnotatedAudioFiles/code0_dating-violence_A14.wav', './AnnotatedAudioFiles/code0_dating-violence_A15.wav', './AnnotatedAudioFiles/code0_dating-violence_A16.wav', './AnnotatedAudioFiles/code0_dating-violence_A17.wav', './AnnotatedAudioFiles/code0_dating-violence_A18.wav', './AnnotatedAudioFiles/code0_dating-violence_A19.wav', './AnnotatedAudioFiles/code0_dating-violence_A20.wav', './AnnotatedAudioFiles/code0_dating-violence_A21.wav', './AnnotatedAudioFiles/code0_dating-violence_A22.wav', './AnnotatedAudioFiles/code0_dating-violence_A23.wav', './AnnotatedAudioFiles/code0_dating-violence_D01.wav', './AnnotatedAudioFiles/code0_dating-violence_D02.wav', './AnnotatedAudioFiles/code0_dating-violence_D03.wav', './AnnotatedAudioFiles/code0_dating-violence_D04.wav', './AnnotatedAudioFiles/code0_dating-violence_D05.wav', './AnnotatedAudioFiles/code0_dating-violence_D06.wav', './AnnotatedAudioFiles/code0_dating-violence_D07.wav', './AnnotatedAudioFiles/code0_dating-violence_D08.wav', './AnnotatedAudioFiles/code0_dating-violence_D09.wav', './AnnotatedAudioFiles/code0_dating-violence_D10.wav', './AnnotatedAudioFiles/code0_dating-violence_D11.wav', './AnnotatedAudioFiles/code0_dating-violence_D12.wav', './AnnotatedAudioFiles/code0_dating-violence_D13.wav', './AnnotatedAudioFiles/code0_dating-violence_D14.wav', './AnnotatedAudioFiles/code0_dating-violence_D15.wav', './AnnotatedAudioFiles/code0_dating-violence_D16.wav', './AnnotatedAudioFiles/code0_dating-violence_D17.wav', './AnnotatedAudioFiles/code0_dating-violence_D18.wav', './AnnotatedAudioFiles/code0_dating-violence_D19.wav', './AnnotatedAudioFiles/code0_dating-violence_D20.wav', './AnnotatedAudioFiles/code0_dating-violence_D21.wav', './AnnotatedAudioFiles/code0_dating-violence_D22.wav', './AnnotatedAudioFiles/code0_dating-violence_D23.wav', './AnnotatedAudioFiles/code0_dating-violence_D24.wav', './AnnotatedAudioFiles/code0_dating-violence_D25.wav', './AnnotatedAudioFiles/code0_dating-violence_D26.wav', './AnnotatedAudioFiles/code0_dating-violence_D27.wav', './AnnotatedAudioFiles/code0_dating-violence_D28.wav', './AnnotatedAudioFiles/code0_dating-violence_D29.wav', './AnnotatedAudioFiles/code0_dating-violence_D30.wav', './AnnotatedAudioFiles/code0_dating-violence_D31.wav', './AnnotatedAudioFiles/code0_dating-violence_D32.wav', './AnnotatedAudioFiles/code0_dating-violence_D33.wav', './AnnotatedAudioFiles/code0_dating-violence_D34.wav', './AnnotatedAudioFiles/code0_dating-violence_D35.wav', './AnnotatedAudioFiles/code0_dating-violence_D36.wav', './AnnotatedAudioFiles/code0_dating-violence_D37.wav', './AnnotatedAudioFiles/code0_injury_B13.wav', './AnnotatedAudioFiles/code0_injury_B14.wav', './AnnotatedAudioFiles/code0_injury_B15.wav', './AnnotatedAudioFiles/code0_injury_B16.wav', './AnnotatedAudioFiles/code0_injury_B17.wav', './AnnotatedAudioFiles/code0_injury_B18.wav', './AnnotatedAudioFiles/code0_injury_B19.wav', './AnnotatedAudioFiles/code0_injury_B20.wav', './AnnotatedAudioFiles/code0_injury_B21.wav', './AnnotatedAudioFiles/code0_injury_B22.wav', './AnnotatedAudioFiles/code0_injury_B23.wav', './AnnotatedAudioFiles/code0_injury_B24.wav', './AnnotatedAudioFiles/code0_injury_B25.wav', './AnnotatedAudioFiles/code0_injury_B26.wav', './AnnotatedAudioFiles/code0_injury_B27.wav', './AnnotatedAudioFiles/code0_injury_B28.wav', './AnnotatedAudioFiles/code0_injury_B29.wav', './AnnotatedAudioFiles/code0_injury_B30.wav', './AnnotatedAudioFiles/code0_injury_B31.wav', './AnnotatedAudioFiles/code0_injury_B32.wav', './AnnotatedAudioFiles/code0_injury_B33.wav', './AnnotatedAudioFiles/code0_injury_B34.wav', './AnnotatedAudioFiles/code0_injury_B35.wav', './AnnotatedAudioFiles/code0_office-violence_02.wav', './AnnotatedAudioFiles/code0_office-violence_03.wav', './AnnotatedAudioFiles/code0_office-violence_04.wav', './AnnotatedAudioFiles/code0_office-violence_05.wav', './AnnotatedAudioFiles/code0_office-violence_06.wav', './AnnotatedAudioFiles/code0_office-violence_07.wav', './AnnotatedAudioFiles/code0_office-violence_08.wav', './AnnotatedAudioFiles/code0_office-violence_09.wav', './AnnotatedAudioFiles/code0_office-violence_10.wav', './AnnotatedAudioFiles/code0_office-violence_11.wav', './AnnotatedAudioFiles/code0_office-violence_12.wav', './AnnotatedAudioFiles/code0_office-violence_13.wav', './AnnotatedAudioFiles/code0_office-violence_14.wav', './AnnotatedAudioFiles/code0_office-violence_15.wav', './AnnotatedAudioFiles/code0_office-violence_16.wav', './AnnotatedAudioFiles/code0_office-violence_17.wav', './AnnotatedAudioFiles/code0_office-violence_18.wav', './AnnotatedAudioFiles/code0_office-violence_19.wav', './AnnotatedAudioFiles/code0_office-violence_20.wav', './AnnotatedAudioFiles/code0_office-violence_21.wav', './AnnotatedAudioFiles/code0_office-violence_22.wav', './AnnotatedAudioFiles/code0_office-violence_23.wav', './AnnotatedAudioFiles/code0_office-violence_24.wav', './AnnotatedAudioFiles/code0_office-violence_25.wav', './AnnotatedAudioFiles/code0_office-violence_26.wav', './AnnotatedAudioFiles/code0_rape_F11_10.wav', './AnnotatedAudioFiles/code0_rape_F12_10.wav', './AnnotatedAudioFiles/code0_rape_F12_15.wav', './AnnotatedAudioFiles/code0_rape_F12_20.wav', './AnnotatedAudioFiles/code0_rape_F12_5.wav', './AnnotatedAudioFiles/code0_rape_F13_10.wav', './AnnotatedAudioFiles/code0_rape_F13_15.wav', './AnnotatedAudioFiles/code0_rape_F13_20.wav', './AnnotatedAudioFiles/code0_rape_F13_25.wav', './AnnotatedAudioFiles/code0_rape_F13_5.wav', './AnnotatedAudioFiles/code0_rape_F14_10.wav', './AnnotatedAudioFiles/code0_rape_F14_15.wav', './AnnotatedAudioFiles/code0_rape_F14_20.wav', './AnnotatedAudioFiles/code0_rape_F14_5.wav', './AnnotatedAudioFiles/code0_rape_F15_10.wav', './AnnotatedAudioFiles/code0_rape_F15_15.wav', './AnnotatedAudioFiles/code0_rape_F15_20.wav', './AnnotatedAudioFiles/code0_rape_F15_5.wav', './AnnotatedAudioFiles/code0_rape_F16_10.wav', './AnnotatedAudioFiles/code0_rape_F16_15.wav', './AnnotatedAudioFiles/code0_rape_F16_5.wav', './AnnotatedAudioFiles/code0_rape_F17_10.wav', './AnnotatedAudioFiles/code0_rape_F17_15.wav', './AnnotatedAudioFiles/code0_rape_F17_20.wav', './AnnotatedAudioFiles/code0_rape_F17_5.wav', './AnnotatedAudioFiles/code0_rape_F18_10.wav', './AnnotatedAudioFiles/code0_rape_F18_15.wav', './AnnotatedAudioFiles/code0_rape_F18_20.wav', './AnnotatedAudioFiles/code0_rape_F18_25.wav', './AnnotatedAudioFiles/code0_rape_F18_5.wav', './AnnotatedAudioFiles/code0_rape_F19_10.wav', './AnnotatedAudioFiles/code0_robber_01.wav', './AnnotatedAudioFiles/code0_robber_02.wav', './AnnotatedAudioFiles/code0_robber_03.wav', './AnnotatedAudioFiles/code0_robber_04.wav', './AnnotatedAudioFiles/code0_robber_05.wav', './AnnotatedAudioFiles/code0_robber_06.wav', './AnnotatedAudioFiles/code0_robber_07.wav', './AnnotatedAudioFiles/code0_robber_08.wav', './AnnotatedAudioFiles/code0_robber_09.wav', './AnnotatedAudioFiles/code0_robber_10.wav', './AnnotatedAudioFiles/code0_robber_11.wav', './AnnotatedAudioFiles/code0_robber_12.wav', './AnnotatedAudioFiles/code0_robber_13.wav', './AnnotatedAudioFiles/code0_robber_14.wav', './AnnotatedAudioFiles/code0_robber_15.wav', './AnnotatedAudioFiles/code0_robber_16.wav', './AnnotatedAudioFiles/code0_robber_17.wav', './AnnotatedAudioFiles/code0_robber_18.wav', './AnnotatedAudioFiles/code0_robber_19.wav', './AnnotatedAudioFiles/code0_robber_20.wav', './AnnotatedAudioFiles/code0_robber_21.wav', './AnnotatedAudioFiles/code0_robber_22.wav', './AnnotatedAudioFiles/code0_robber_23.wav', './AnnotatedAudioFiles/code0_robber_A01.wav', './AnnotatedAudioFiles/code0_robber_A02.wav', './AnnotatedAudioFiles/code0_robber_A03.wav', './AnnotatedAudioFiles/code0_robber_A04.wav', './AnnotatedAudioFiles/code0_robber_A05.wav', './AnnotatedAudioFiles/code0_robber_A06.wav', './AnnotatedAudioFiles/code0_robber_A07.wav', './AnnotatedAudioFiles/code0_robber_A08.wav', './AnnotatedAudioFiles/code0_robber_A09.wav', './AnnotatedAudioFiles/code0_robber_A10.wav', './AnnotatedAudioFiles/code0_robber_A11.wav', './AnnotatedAudioFiles/code0_robber_A12.wav', './AnnotatedAudioFiles/code0_robber_A13.wav', './AnnotatedAudioFiles/code0_robber_A14.wav', './AnnotatedAudioFiles/code0_robber_A15.wav', './AnnotatedAudioFiles/code0_robber_A16.wav', './AnnotatedAudioFiles/code0_robber_A17.wav', './AnnotatedAudioFiles/code0_robber_A18.wav', './AnnotatedAudioFiles/code0_robber_A19.wav', './AnnotatedAudioFiles/code0_robber_A20.wav', './AnnotatedAudioFiles/code0_robber_A21.wav', './AnnotatedAudioFiles/code0_robber_A22.wav', './AnnotatedAudioFiles/code0_robber_A23.wav', './AnnotatedAudioFiles/code0_robber_A24.wav', './AnnotatedAudioFiles/code0_robber_A25.wav', './AnnotatedAudioFiles/code0_robber_A26.wav', './AnnotatedAudioFiles/code0_robber_A27.wav', './AnnotatedAudioFiles/code0_robber_A28.wav', './AnnotatedAudioFiles/code0_robber_A29.wav', './AnnotatedAudioFiles/code0_robber_A30.wav', './AnnotatedAudioFiles/code0_robber_A31.wav', './AnnotatedAudioFiles/code0_robber_A32.wav', './AnnotatedAudioFiles/code0_robber_A33.wav', './AnnotatedAudioFiles/code0_robber_A34.wav', './AnnotatedAudioFiles/code0_robber_A35.wav', './AnnotatedAudioFiles/code0_robber_A36.wav', './AnnotatedAudioFiles/code0_robber_A37.wav', './AnnotatedAudioFiles/code0_robber_A38.wav', './AnnotatedAudioFiles/code0_robber_A39.wav', './AnnotatedAudioFiles/code0_robber_A40.wav', './AnnotatedAudioFiles/code0_robber_A41.wav', './AnnotatedAudioFiles/code0_robber_A42.wav', './AnnotatedAudioFiles/code0_robber_A43.wav', './AnnotatedAudioFiles/code0_robber_A44.wav', './AnnotatedAudioFiles/code0_robber_A45.wav', './AnnotatedAudioFiles/code0_robber_A46.wav', './AnnotatedAudioFiles/code0_robber_A47.wav', './AnnotatedAudioFiles/code0_robber_B01.wav', './AnnotatedAudioFiles/code0_robber_B02.wav', './AnnotatedAudioFiles/code0_robber_B03.wav', './AnnotatedAudioFiles/code0_robber_B04.wav', './AnnotatedAudioFiles/code0_robber_B05.wav', './AnnotatedAudioFiles/code0_robber_B06.wav', './AnnotatedAudioFiles/code0_robber_B07.wav', './AnnotatedAudioFiles/code0_robber_B08.wav', './AnnotatedAudioFiles/code0_robber_B09.wav', './AnnotatedAudioFiles/code0_robber_B10.wav', './AnnotatedAudioFiles/code0_robber_B11.wav', './AnnotatedAudioFiles/code0_robber_B12.wav', './AnnotatedAudioFiles/code0_robber_B13.wav', './AnnotatedAudioFiles/code0_robber_B14.wav', './AnnotatedAudioFiles/code0_robber_B15.wav', './AnnotatedAudioFiles/code0_robber_B16.wav', './AnnotatedAudioFiles/code0_robber_B17.wav', './AnnotatedAudioFiles/code0_robber_B18.wav', './AnnotatedAudioFiles/code0_robber_B19.wav', './AnnotatedAudioFiles/code0_robber_B20.wav', './AnnotatedAudioFiles/code0_robber_B21.wav', './AnnotatedAudioFiles/code0_robber_B22.wav', './AnnotatedAudioFiles/code0_robber_B23.wav', './AnnotatedAudioFiles/code0_robber_B24.wav', './AnnotatedAudioFiles/code0_robber_B25.wav', './AnnotatedAudioFiles/code0_robber_B26.wav', './AnnotatedAudioFiles/code0_robber_B27.wav', './AnnotatedAudioFiles/code0_robber_B28.wav', './AnnotatedAudioFiles/code0_robber_B29.wav', './AnnotatedAudioFiles/code0_robber_B30.wav', './AnnotatedAudioFiles/code0_robber_B31.wav', './AnnotatedAudioFiles/code0_robber_B32.wav', './AnnotatedAudioFiles/code0_robber_B33.wav', './AnnotatedAudioFiles/code0_robber_B34.wav', './AnnotatedAudioFiles/code0_robber_B35.wav', './AnnotatedAudioFiles/code0_robber_B36.wav', './AnnotatedAudioFiles/code0_robber_B37.wav', './AnnotatedAudioFiles/code0_robber_B38.wav', './AnnotatedAudioFiles/code0_robber_B39.wav', './AnnotatedAudioFiles/code0_robber_B40.wav', './AnnotatedAudioFiles/code0_robber_B41.wav', './AnnotatedAudioFiles/code0_robber_B42.wav', './AnnotatedAudioFiles/code0_robber_B43.wav', './AnnotatedAudioFiles/code0_robber_B44.wav', './AnnotatedAudioFiles/code0_robber_B45.wav', './AnnotatedAudioFiles/code0_robber_B_01.wav', './AnnotatedAudioFiles/code0_robber_B_02.wav', './AnnotatedAudioFiles/code0_robber_B_03.wav', './AnnotatedAudioFiles/code0_robber_B_04.wav', './AnnotatedAudioFiles/code0_robber_B_05.wav', './AnnotatedAudioFiles/code0_robber_B_06.wav', './AnnotatedAudioFiles/code0_robber_B_07.wav', './AnnotatedAudioFiles/code0_robber_B_08.wav', './AnnotatedAudioFiles/code0_robber_B_09.wav', './AnnotatedAudioFiles/code0_robber_B_10.wav', './AnnotatedAudioFiles/code0_robber_B_11.wav', './AnnotatedAudioFiles/code0_robber_B_12.wav', './AnnotatedAudioFiles/code0_robber_B_13.wav', './AnnotatedAudioFiles/code0_robber_B_14.wav', './AnnotatedAudioFiles/code0_robber_B_15.wav', './AnnotatedAudioFiles/code0_robber_B_16.wav', './AnnotatedAudioFiles/code0_robber_B_17.wav', './AnnotatedAudioFiles/code0_robber_B_18.wav', './AnnotatedAudioFiles/code0_robber_B_19.wav', './AnnotatedAudioFiles/code0_robber_B_20.wav', './AnnotatedAudioFiles/code0_robber_B_21.wav', './AnnotatedAudioFiles/code0_robber_B_22.wav', './AnnotatedAudioFiles/code0_robber_B_23.wav', './AnnotatedAudioFiles/code0_robber_B_24.wav', './AnnotatedAudioFiles/code0_robber_B_25.wav', './AnnotatedAudioFiles/code0_robber_B_26.wav', './AnnotatedAudioFiles/code0_robber_B_27.wav', './AnnotatedAudioFiles/code0_robber_B_28.wav', './AnnotatedAudioFiles/code0_robber_B_29.wav', './AnnotatedAudioFiles/code0_robber_B_30.wav', './AnnotatedAudioFiles/code0_robber_B_31.wav', './AnnotatedAudioFiles/code0_robber_B_32.wav', './AnnotatedAudioFiles/code0_robber_B_33.wav', './AnnotatedAudioFiles/code0_robber_B_34.wav', './AnnotatedAudioFiles/code0_robber_B_35.wav', './AnnotatedAudioFiles/code0_robber_B_36.wav', './AnnotatedAudioFiles/code0_robber_B_37.wav', './AnnotatedAudioFiles/code0_robber_B_38.wav', './AnnotatedAudioFiles/code0_robber_B_39.wav', './AnnotatedAudioFiles/code0_robber_B_40.wav', './AnnotatedAudioFiles/code0_robber_B_41.wav', './AnnotatedAudioFiles/code0_robber_B_42.wav', './AnnotatedAudioFiles/code0_robber_B_43.wav', './AnnotatedAudioFiles/code0_robber_B_44.wav', './AnnotatedAudioFiles/code0_robber_B_45.wav', './AnnotatedAudioFiles/code0_robber_C01.wav', './AnnotatedAudioFiles/code0_robber_C02.wav', './AnnotatedAudioFiles/code0_robber_C03.wav', './AnnotatedAudioFiles/code0_robber_C04.wav', './AnnotatedAudioFiles/code0_robber_C05.wav', './AnnotatedAudioFiles/code0_robber_C06.wav', './AnnotatedAudioFiles/code0_robber_C07.wav', './AnnotatedAudioFiles/code0_robber_C08.wav', './AnnotatedAudioFiles/code0_robber_C09.wav', './AnnotatedAudioFiles/code0_robber_C10.wav', './AnnotatedAudioFiles/code0_robber_C11.wav', './AnnotatedAudioFiles/code0_robber_C12.wav', './AnnotatedAudioFiles/code0_robber_C13.wav', './AnnotatedAudioFiles/code0_robber_C14.wav', './AnnotatedAudioFiles/code0_robber_C15.wav', './AnnotatedAudioFiles/code0_robber_C16.wav', './AnnotatedAudioFiles/code0_robber_C17.wav', './AnnotatedAudioFiles/code0_robber_C18.wav', './AnnotatedAudioFiles/code0_robber_C19.wav', './AnnotatedAudioFiles/code0_robber_C20.wav', './AnnotatedAudioFiles/code0_robber_C21.wav', './AnnotatedAudioFiles/code0_robber_C22.wav', './AnnotatedAudioFiles/code0_robber_C23.wav', './AnnotatedAudioFiles/code0_robber_C24.wav', './AnnotatedAudioFiles/code0_robber_C25.wav', './AnnotatedAudioFiles/code0_robber_C26.wav', './AnnotatedAudioFiles/code0_robber_C27.wav', './AnnotatedAudioFiles/code0_robber_C28.wav', './AnnotatedAudioFiles/code0_robber_C29.wav', './AnnotatedAudioFiles/code0_robber_C30.wav', './AnnotatedAudioFiles/code0_robber_C31.wav', './AnnotatedAudioFiles/code0_robber_C32.wav', './AnnotatedAudioFiles/code0_robber_C33.wav', './AnnotatedAudioFiles/code0_robber_C34.wav', './AnnotatedAudioFiles/code0_robber_C35.wav', './AnnotatedAudioFiles/code0_robber_C36.wav', './AnnotatedAudioFiles/code0_robber_C37.wav', './AnnotatedAudioFiles/code0_robber_C38.wav', './AnnotatedAudioFiles/code0_robber_C39.wav', './AnnotatedAudioFiles/code0_robber_C40.wav', './AnnotatedAudioFiles/code0_robber_C41.wav', './AnnotatedAudioFiles/code0_robber_C42.wav', './AnnotatedAudioFiles/code0_robber_C43.wav', './AnnotatedAudioFiles/code0_robber_C44.wav', './AnnotatedAudioFiles/code0_robber_C45.wav', './AnnotatedAudioFiles/code0_robber_C46.wav', './AnnotatedAudioFiles/code0_robber_C47.wav', './AnnotatedAudioFiles/code0_sponsor_01.wav', './AnnotatedAudioFiles/code0_sponsor_02.wav', './AnnotatedAudioFiles/code0_sponsor_03.wav', './AnnotatedAudioFiles/code0_sponsor_04.wav', './AnnotatedAudioFiles/code0_sponsor_05.wav', './AnnotatedAudioFiles/code0_sponsor_06.wav', './AnnotatedAudioFiles/code0_sponsor_07.wav', './AnnotatedAudioFiles/code0_sponsor_08.wav', './AnnotatedAudioFiles/code0_sponsor_09.wav', './AnnotatedAudioFiles/code0_sponsor_10.wav', './AnnotatedAudioFiles/code0_sponsor_11.wav', './AnnotatedAudioFiles/code0_sponsor_12.wav', './AnnotatedAudioFiles/code0_sponsor_13.wav', './AnnotatedAudioFiles/code0_sponsor_14.wav', './AnnotatedAudioFiles/code0_sponsor_15.wav', './AnnotatedAudioFiles/code0_violence_B01.wav', './AnnotatedAudioFiles/code0_violence_B02.wav', './AnnotatedAudioFiles/code0_violence_B03.wav', './AnnotatedAudioFiles/code0_violence_B04.wav', './AnnotatedAudioFiles/code0_violence_B05.wav', './AnnotatedAudioFiles/code0_violence_B06.wav', './AnnotatedAudioFiles/code0_violence_B07.wav', './AnnotatedAudioFiles/code0_violence_B08.wav', './AnnotatedAudioFiles/code0_violence_B09.wav', './AnnotatedAudioFiles/code0_violence_B10.wav', './AnnotatedAudioFiles/code0_violence_B11.wav', './AnnotatedAudioFiles/code0_violence_B12.wav', './AnnotatedAudioFiles/code0_violence_C01.wav', './AnnotatedAudioFiles/code0_violence_C02.wav', './AnnotatedAudioFiles/code0_violence_C03.wav', './AnnotatedAudioFiles/code0_violence_C04.wav', './AnnotatedAudioFiles/code0_violence_C05.wav', './AnnotatedAudioFiles/code0_violence_C06.wav', './AnnotatedAudioFiles/code0_violence_C07.wav', './AnnotatedAudioFiles/code0_violence_C08.wav', './AnnotatedAudioFiles/code0_violence_C09.wav', './AnnotatedAudioFiles/code0_violence_C10.wav', './AnnotatedAudioFiles/code0_violence_C11.wav', './AnnotatedAudioFiles/code0_violence_C12.wav', './AnnotatedAudioFiles/code0_violence_C13.wav', './AnnotatedAudioFiles/code0_violence_C14.wav', './AnnotatedAudioFiles/code0_violence_C15.wav', './AnnotatedAudioFiles/code0_violence_C16.wav', './AnnotatedAudioFiles/code0_violence_C17.wav', './AnnotatedAudioFiles/code0_violence_C18.wav', './AnnotatedAudioFiles/code0_violence_C19.wav', './AnnotatedAudioFiles/code0_violence_C20.wav', './AnnotatedAudioFiles/code0_violence_C21.wav', './AnnotatedAudioFiles/code0_violence_C22.wav', './AnnotatedAudioFiles/code0_violence_C23.wav', './AnnotatedAudioFiles/code0_violence_C24.wav', './AnnotatedAudioFiles/code0_violence_C25.wav', './AnnotatedAudioFiles/code1_candid cam_A01.wav', './AnnotatedAudioFiles/code1_candid cam_A02.wav', './AnnotatedAudioFiles/code1_candid cam_A03.wav', './AnnotatedAudioFiles/code1_candid cam_A04.wav', './AnnotatedAudioFiles/code1_candid cam_A05.wav', './AnnotatedAudioFiles/code1_candid cam_A06.wav', './AnnotatedAudioFiles/code1_candid cam_A07.wav', './AnnotatedAudioFiles/code1_candid cam_A08.wav', './AnnotatedAudioFiles/code1_candid cam_A09.wav', './AnnotatedAudioFiles/code1_candid cam_A10.wav', './AnnotatedAudioFiles/code1_candid cam_A11.wav', './AnnotatedAudioFiles/code1_candid cam_A12.wav', './AnnotatedAudioFiles/code1_candid cam_A13.wav', './AnnotatedAudioFiles/code1_candid cam_A14.wav', './AnnotatedAudioFiles/code1_candid cam_A15.wav', './AnnotatedAudioFiles/code1_candid cam_A16.wav', './AnnotatedAudioFiles/code1_candid cam_A17.wav', './AnnotatedAudioFiles/code1_candid cam_A18.wav', './AnnotatedAudioFiles/code1_candid cam_A19.wav', './AnnotatedAudioFiles/code1_candid cam_A20.wav', './AnnotatedAudioFiles/code1_candid cam_A21.wav', './AnnotatedAudioFiles/code1_candid cam_A22.wav', './AnnotatedAudioFiles/code1_candid cam_A23.wav', './AnnotatedAudioFiles/code1_candid cam_A24.wav', './AnnotatedAudioFiles/code1_candid cam_A25.wav', './AnnotatedAudioFiles/code1_candid cam_A26.wav', './AnnotatedAudioFiles/code1_candid cam_A27.wav', './AnnotatedAudioFiles/code1_candid cam_A28.wav', './AnnotatedAudioFiles/code1_candid cam_A29.wav', './AnnotatedAudioFiles/code1_candid cam_A30.wav', './AnnotatedAudioFiles/code1_candid cam_A31.wav', './AnnotatedAudioFiles/code1_candid cam_A32.wav', './AnnotatedAudioFiles/code1_candid cam_A33.wav', './AnnotatedAudioFiles/code1_candid cam_A34.wav', './AnnotatedAudioFiles/code1_candid cam_A35.wav', './AnnotatedAudioFiles/code1_candid cam_A36.wav', './AnnotatedAudioFiles/code1_candid cam_A37.wav', './AnnotatedAudioFiles/code1_candid cam_A38.wav', './AnnotatedAudioFiles/code1_candid cam_A39.wav', './AnnotatedAudioFiles/code1_candid cam_A40.wav', './AnnotatedAudioFiles/code1_candid cam_A41.wav', './AnnotatedAudioFiles/code1_candid cam_A42.wav', './AnnotatedAudioFiles/code1_candid cam_A43.wav', './AnnotatedAudioFiles/code1_candid cam_A44.wav', './AnnotatedAudioFiles/code1_candid cam_A45.wav', './AnnotatedAudioFiles/code1_candid cam_A46.wav', './AnnotatedAudioFiles/code1_candid cam_A47.wav', './AnnotatedAudioFiles/code1_candid cam_A48.wav', './AnnotatedAudioFiles/code1_candid cam_A49.wav', './AnnotatedAudioFiles/code1_candid cam_A50.wav', './AnnotatedAudioFiles/code1_candid cam_B01.wav', './AnnotatedAudioFiles/code1_candid cam_B02.wav', './AnnotatedAudioFiles/code1_candid cam_B03.wav', './AnnotatedAudioFiles/code1_candid cam_B04.wav', './AnnotatedAudioFiles/code1_candid cam_B05.wav', './AnnotatedAudioFiles/code1_candid cam_B06.wav', './AnnotatedAudioFiles/code1_candid cam_B07.wav', './AnnotatedAudioFiles/code1_candid cam_B08.wav', './AnnotatedAudioFiles/code1_candid cam_B09.wav', './AnnotatedAudioFiles/code1_candid cam_B10.wav', './AnnotatedAudioFiles/code1_candid cam_B11.wav', './AnnotatedAudioFiles/code1_candid cam_B12.wav', './AnnotatedAudioFiles/code1_candid cam_B13.wav', './AnnotatedAudioFiles/code1_candid cam_B14.wav', './AnnotatedAudioFiles/code1_candid cam_B15.wav', './AnnotatedAudioFiles/code1_candid cam_B16.wav', './AnnotatedAudioFiles/code1_candid cam_B17.wav', './AnnotatedAudioFiles/code1_candid cam_B18.wav', './AnnotatedAudioFiles/code1_candid cam_B19.wav', './AnnotatedAudioFiles/code1_candid cam_B20.wav', './AnnotatedAudioFiles/code1_candid cam_B21.wav', './AnnotatedAudioFiles/code1_candid cam_B22.wav', './AnnotatedAudioFiles/code1_candid cam_B23.wav', './AnnotatedAudioFiles/code1_candid cam_B24.wav', './AnnotatedAudioFiles/code1_candid cam_B25.wav', './AnnotatedAudioFiles/code1_candid cam_B26.wav', './AnnotatedAudioFiles/code1_candid cam_B27.wav', './AnnotatedAudioFiles/code1_candid cam_B28.wav', './AnnotatedAudioFiles/code1_candid cam_B29.wav', './AnnotatedAudioFiles/code1_candid cam_B30.wav', './AnnotatedAudioFiles/code1_candid cam_B31.wav', './AnnotatedAudioFiles/code1_candid cam_B32.wav', './AnnotatedAudioFiles/code1_candid cam_B33.wav', './AnnotatedAudioFiles/code1_candid cam_B34.wav', './AnnotatedAudioFiles/code1_candid cam_B35.wav', './AnnotatedAudioFiles/code1_candid cam_B36.wav', './AnnotatedAudioFiles/code1_candid cam_B37.wav', './AnnotatedAudioFiles/code1_candid cam_B38.wav', './AnnotatedAudioFiles/code1_candid cam_B39.wav', './AnnotatedAudioFiles/code1_candid cam_B40.wav', './AnnotatedAudioFiles/code1_candid cam_C01.wav', './AnnotatedAudioFiles/code1_candid cam_C02.wav', './AnnotatedAudioFiles/code1_candid cam_C03.wav', './AnnotatedAudioFiles/code1_candid cam_C04.wav', './AnnotatedAudioFiles/code1_candid cam_C05.wav', './AnnotatedAudioFiles/code1_candid cam_C06.wav', './AnnotatedAudioFiles/code1_candid cam_C07.wav', './AnnotatedAudioFiles/code1_candid cam_C08.wav', './AnnotatedAudioFiles/code1_candid cam_C09.wav', './AnnotatedAudioFiles/code1_candid cam_C10.wav', './AnnotatedAudioFiles/code1_candid cam_C11.wav', './AnnotatedAudioFiles/code1_candid cam_C12.wav', './AnnotatedAudioFiles/code1_candid cam_C13.wav', './AnnotatedAudioFiles/code1_candid cam_C14.wav', './AnnotatedAudioFiles/code1_candid cam_C15.wav', './AnnotatedAudioFiles/code1_candid cam_F01.wav', './AnnotatedAudioFiles/code1_candid cam_F02.wav', './AnnotatedAudioFiles/code1_candid cam_F03.wav', './AnnotatedAudioFiles/code1_candid cam_F04.wav', './AnnotatedAudioFiles/code1_candid cam_F05.wav', './AnnotatedAudioFiles/code1_candid cam_F06.wav', './AnnotatedAudioFiles/code1_candid cam_F07.wav', './AnnotatedAudioFiles/code1_candid cam_F08.wav', './AnnotatedAudioFiles/code1_candid cam_F09.wav', './AnnotatedAudioFiles/code1_candid cam_F10.wav', './AnnotatedAudioFiles/code1_candid cam_F10_1.wav', './AnnotatedAudioFiles/code1_candid cam_F11.wav', './AnnotatedAudioFiles/code1_candid cam_F11_1.wav', './AnnotatedAudioFiles/code1_candid cam_F12.wav', './AnnotatedAudioFiles/code1_candid cam_F12_1.wav', './AnnotatedAudioFiles/code1_candid cam_F13.wav', './AnnotatedAudioFiles/code1_candid cam_F13_1.wav', './AnnotatedAudioFiles/code1_candid cam_F14.wav', './AnnotatedAudioFiles/code1_candid cam_F14_1.wav', './AnnotatedAudioFiles/code1_candid cam_F15.wav', './AnnotatedAudioFiles/code1_candid cam_F15_1.wav', './AnnotatedAudioFiles/code1_candid cam_F16.wav', './AnnotatedAudioFiles/code1_candid cam_F16_1.wav', './AnnotatedAudioFiles/code1_candid cam_F17.wav', './AnnotatedAudioFiles/code1_candid cam_F17_1.wav', './AnnotatedAudioFiles/code1_candid cam_F18.wav', './AnnotatedAudioFiles/code1_candid cam_F18_1.wav', './AnnotatedAudioFiles/code1_candid cam_F19.wav', './AnnotatedAudioFiles/code1_candid cam_F19_1.wav', './AnnotatedAudioFiles/code1_candid cam_F20.wav', './AnnotatedAudioFiles/code1_candid cam_F20_1.wav', './AnnotatedAudioFiles/code1_candid cam_F21.wav', './AnnotatedAudioFiles/code1_candid cam_F21_1.wav', './AnnotatedAudioFiles/code1_candid cam_F22.wav', './AnnotatedAudioFiles/code1_candid cam_F22_1.wav', './AnnotatedAudioFiles/code1_candid cam_F23.wav', './AnnotatedAudioFiles/code1_candid cam_F23_1.wav', './AnnotatedAudioFiles/code1_candid cam_F24.wav', './AnnotatedAudioFiles/code1_candid cam_F24_1.wav', './AnnotatedAudioFiles/code1_candid cam_F25.wav', './AnnotatedAudioFiles/code1_candid cam_F25_1.wav', './AnnotatedAudioFiles/code1_candid cam_F26.wav', './AnnotatedAudioFiles/code1_candid cam_F27.wav', './AnnotatedAudioFiles/code1_candid cam_F28.wav', './AnnotatedAudioFiles/code1_candid cam_F29.wav', './AnnotatedAudioFiles/code1_candid cam_F30.wav', './AnnotatedAudioFiles/code1_candid cam_F31.wav', './AnnotatedAudioFiles/code1_candid cam_F32.wav', './AnnotatedAudioFiles/code1_candid cam_F33.wav', './AnnotatedAudioFiles/code1_candid cam_F34.wav', './AnnotatedAudioFiles/code1_candid cam_F35.wav', './AnnotatedAudioFiles/code1_candid cam_F36.wav', './AnnotatedAudioFiles/code1_candid cam_F37.wav', './AnnotatedAudioFiles/code1_candid cam_F38.wav', './AnnotatedAudioFiles/code1_candid cam_F39.wav', './AnnotatedAudioFiles/code1_candid cam_F40.wav', './AnnotatedAudioFiles/code1_candid cam_F41.wav', './AnnotatedAudioFiles/code1_candid cam_F42.wav', './AnnotatedAudioFiles/code1_candid cam_F43.wav', './AnnotatedAudioFiles/code1_candid cam_F44.wav', './AnnotatedAudioFiles/code1_candid cam_F45.wav', './AnnotatedAudioFiles/code1_candid cam_F46.wav', './AnnotatedAudioFiles/code1_candid cam_F47.wav', './AnnotatedAudioFiles/code1_candid cam_F48.wav', './AnnotatedAudioFiles/code1_candid cam_F49.wav', './AnnotatedAudioFiles/code1_candid cam_F50.wav', './AnnotatedAudioFiles/code1_candid cam_남F01.wav', './AnnotatedAudioFiles/code1_candid cam_남F02.wav', './AnnotatedAudioFiles/code1_candid cam_남F03.wav', './AnnotatedAudioFiles/code1_candid cam_남F04.wav', './AnnotatedAudioFiles/code1_candid cam_남F05.wav', './AnnotatedAudioFiles/code1_candid cam_남F06.wav', './AnnotatedAudioFiles/code1_candid cam_남F07.wav', './AnnotatedAudioFiles/code1_candid cam_남F08.wav', './AnnotatedAudioFiles/code1_candid cam_남F09.wav', './AnnotatedAudioFiles/code1_candid cam_남F26.wav', './AnnotatedAudioFiles/code1_candid cam_여G01.wav', './AnnotatedAudioFiles/code1_candid cam_여G02.wav', './AnnotatedAudioFiles/code1_candid cam_여G03.wav', './AnnotatedAudioFiles/code1_candid cam_여G04.wav', './AnnotatedAudioFiles/code1_candid cam_여G05.wav', './AnnotatedAudioFiles/code1_candid cam_여G06.wav', './AnnotatedAudioFiles/code1_candid cam_여G07.wav', './AnnotatedAudioFiles/code1_candid cam_여G08.wav', './AnnotatedAudioFiles/code1_candid cam_여G09.wav', './AnnotatedAudioFiles/code1_candid cam_여G10.wav', './AnnotatedAudioFiles/code1_candid cam_여G11.wav', './AnnotatedAudioFiles/code1_candid cam_여G12.wav', './AnnotatedAudioFiles/code1_candid cam_여G13.wav', './AnnotatedAudioFiles/code1_candid cam_여G14.wav', './AnnotatedAudioFiles/code1_candid cam_여G15.wav', './AnnotatedAudioFiles/code1_candid cam_여G16.wav', './AnnotatedAudioFiles/code1_candid-cam_C01.wav', './AnnotatedAudioFiles/code1_candid-cam_C02.wav', './AnnotatedAudioFiles/code1_candid-cam_C03.wav', './AnnotatedAudioFiles/code1_candid-cam_C04.wav', './AnnotatedAudioFiles/code1_candid-cam_C05.wav', './AnnotatedAudioFiles/code1_candid-cam_C06.wav', './AnnotatedAudioFiles/code1_candid-cam_C07.wav', './AnnotatedAudioFiles/code1_candid-cam_C08.wav', './AnnotatedAudioFiles/code1_candid-cam_C09.wav', './AnnotatedAudioFiles/code1_candid-cam_C10.wav', './AnnotatedAudioFiles/code1_candid-cam_C11.wav', './AnnotatedAudioFiles/code1_candid-cam_C12.wav', './AnnotatedAudioFiles/code1_candid-cam_C13.wav', './AnnotatedAudioFiles/code1_candid-cam_C14.wav', './AnnotatedAudioFiles/code1_candid-cam_C15.wav', './AnnotatedAudioFiles/code1_candid-cam_C16.wav', './AnnotatedAudioFiles/code1_candid-cam_C17.wav', './AnnotatedAudioFiles/code1_candid-cam_C18.wav', './AnnotatedAudioFiles/code1_candid-cam_C19.wav', './AnnotatedAudioFiles/code1_candid-cam_C20.wav', './AnnotatedAudioFiles/code1_candid-cam_C21.wav', './AnnotatedAudioFiles/code1_candid-cam_C22.wav', './AnnotatedAudioFiles/code1_candid-cam_C23.wav', './AnnotatedAudioFiles/code1_candid-cam_C24.wav', './AnnotatedAudioFiles/code1_candid-cam_C25.wav', './AnnotatedAudioFiles/code1_candid-cam_C26.wav', './AnnotatedAudioFiles/code1_candid-cam_C27.wav', './AnnotatedAudioFiles/code1_candid-cam_C28.wav', './AnnotatedAudioFiles/code1_candid-cam_C29.wav', './AnnotatedAudioFiles/code1_candid-cam_C30.wav', './AnnotatedAudioFiles/code1_candid-cam_C31.wav', './AnnotatedAudioFiles/code1_candid-cam_C32.wav', './AnnotatedAudioFiles/code1_candid-cam_C33.wav', './AnnotatedAudioFiles/code1_candid-cam_C34.wav', './AnnotatedAudioFiles/code1_candid-cam_C35.wav', './AnnotatedAudioFiles/code1_candid-cam_C36.wav', './AnnotatedAudioFiles/code1_candid-cam_C37.wav', './AnnotatedAudioFiles/code1_candid-cam_C38.wav', './AnnotatedAudioFiles/code1_candid-cam_C39.wav', './AnnotatedAudioFiles/code1_candid-cam_C40.wav', './AnnotatedAudioFiles/code1_candid-cam_C41.wav', './AnnotatedAudioFiles/code1_candid-cam_C42.wav', './AnnotatedAudioFiles/code1_candid-cam_C43.wav', './AnnotatedAudioFiles/code1_candid-cam_C44.wav', './AnnotatedAudioFiles/code1_candid-cam_C45.wav', './AnnotatedAudioFiles/code1_candid-cam_C46.wav', './AnnotatedAudioFiles/code1_candid-cam_C47.wav', './AnnotatedAudioFiles/code1_candid-cam_C48.wav', './AnnotatedAudioFiles/code1_candid-cam_C49.wav', './AnnotatedAudioFiles/code1_candid-cam_C50.wav', './AnnotatedAudioFiles/code1_candid-cam_C51.wav', './AnnotatedAudioFiles/code1_candid-cam_C52.wav', './AnnotatedAudioFiles/code1_candid-cam_C53.wav', './AnnotatedAudioFiles/code1_candid-cam_C54.wav', './AnnotatedAudioFiles/code1_candid-cam_C55.wav', './AnnotatedAudioFiles/code1_candid-cam_C56.wav', './AnnotatedAudioFiles/code1_candid-cam_C57.wav', './AnnotatedAudioFiles/code1_candid-cam_C58.wav', './AnnotatedAudioFiles/code1_candid-cam_C59.wav', './AnnotatedAudioFiles/code1_candid-cam_C60.wav', './AnnotatedAudioFiles/code1_candid-cam_D01.wav', './AnnotatedAudioFiles/code1_candid-cam_D02.wav', './AnnotatedAudioFiles/code1_candid-cam_D03.wav', './AnnotatedAudioFiles/code1_candid-cam_D04.wav', './AnnotatedAudioFiles/code1_candid-cam_D05.wav', './AnnotatedAudioFiles/code1_candid-cam_D06.wav', './AnnotatedAudioFiles/code1_candid-cam_D07.wav', './AnnotatedAudioFiles/code1_candid-cam_D08.wav', './AnnotatedAudioFiles/code1_candid-cam_D09.wav', './AnnotatedAudioFiles/code1_candid-cam_D10.wav', './AnnotatedAudioFiles/code1_candid-cam_D100.wav', './AnnotatedAudioFiles/code1_candid-cam_D11.wav', './AnnotatedAudioFiles/code1_candid-cam_D12.wav', './AnnotatedAudioFiles/code1_candid-cam_D13.wav', './AnnotatedAudioFiles/code1_candid-cam_D14.wav', './AnnotatedAudioFiles/code1_candid-cam_D15.wav', './AnnotatedAudioFiles/code1_candid-cam_D16.wav', './AnnotatedAudioFiles/code1_candid-cam_D17.wav', './AnnotatedAudioFiles/code1_candid-cam_D18.wav', './AnnotatedAudioFiles/code1_candid-cam_D19.wav', './AnnotatedAudioFiles/code1_candid-cam_D20.wav', './AnnotatedAudioFiles/code1_candid-cam_D21.wav', './AnnotatedAudioFiles/code1_candid-cam_D22.wav', './AnnotatedAudioFiles/code1_candid-cam_D23.wav', './AnnotatedAudioFiles/code1_candid-cam_D24.wav', './AnnotatedAudioFiles/code1_candid-cam_D25.wav', './AnnotatedAudioFiles/code1_candid-cam_D26.wav', './AnnotatedAudioFiles/code1_candid-cam_D27.wav', './AnnotatedAudioFiles/code1_candid-cam_D28.wav', './AnnotatedAudioFiles/code1_candid-cam_D29.wav', './AnnotatedAudioFiles/code1_candid-cam_D30.wav', './AnnotatedAudioFiles/code1_candid-cam_D31.wav', './AnnotatedAudioFiles/code1_candid-cam_D32.wav', './AnnotatedAudioFiles/code1_candid-cam_D33.wav', './AnnotatedAudioFiles/code1_candid-cam_D34.wav', './AnnotatedAudioFiles/code1_candid-cam_D35.wav', './AnnotatedAudioFiles/code1_candid-cam_D36.wav', './AnnotatedAudioFiles/code1_candid-cam_D37.wav', './AnnotatedAudioFiles/code1_candid-cam_D38.wav', './AnnotatedAudioFiles/code1_candid-cam_D39.wav', './AnnotatedAudioFiles/code1_candid-cam_D40.wav', './AnnotatedAudioFiles/code1_candid-cam_D41.wav', './AnnotatedAudioFiles/code1_candid-cam_D42.wav', './AnnotatedAudioFiles/code1_candid-cam_D43.wav', './AnnotatedAudioFiles/code1_candid-cam_D44.wav', './AnnotatedAudioFiles/code1_candid-cam_D45.wav', './AnnotatedAudioFiles/code1_candid-cam_D46.wav', './AnnotatedAudioFiles/code1_candid-cam_D47.wav', './AnnotatedAudioFiles/code1_candid-cam_D48.wav', './AnnotatedAudioFiles/code1_candid-cam_D49.wav', './AnnotatedAudioFiles/code1_candid-cam_D50.wav', './AnnotatedAudioFiles/code1_candid-cam_D51.wav', './AnnotatedAudioFiles/code1_candid-cam_D52.wav', './AnnotatedAudioFiles/code1_candid-cam_D53.wav', './AnnotatedAudioFiles/code1_candid-cam_D54.wav', './AnnotatedAudioFiles/code1_candid-cam_D55.wav', './AnnotatedAudioFiles/code1_candid-cam_D56.wav', './AnnotatedAudioFiles/code1_candid-cam_D57.wav', './AnnotatedAudioFiles/code1_candid-cam_D58.wav', './AnnotatedAudioFiles/code1_candid-cam_D59.wav', './AnnotatedAudioFiles/code1_candid-cam_D60.wav', './AnnotatedAudioFiles/code1_candid-cam_D61.wav', './AnnotatedAudioFiles/code1_candid-cam_D62.wav', './AnnotatedAudioFiles/code1_candid-cam_D63.wav', './AnnotatedAudioFiles/code1_candid-cam_D64.wav', './AnnotatedAudioFiles/code1_candid-cam_D65.wav', './AnnotatedAudioFiles/code1_candid-cam_D66.wav', './AnnotatedAudioFiles/code1_candid-cam_D67.wav', './AnnotatedAudioFiles/code1_candid-cam_D68.wav', './AnnotatedAudioFiles/code1_candid-cam_D69.wav', './AnnotatedAudioFiles/code1_candid-cam_D70.wav', './AnnotatedAudioFiles/code1_candid-cam_D71.wav', './AnnotatedAudioFiles/code1_candid-cam_D72.wav', './AnnotatedAudioFiles/code1_candid-cam_D73.wav', './AnnotatedAudioFiles/code1_candid-cam_D74.wav', './AnnotatedAudioFiles/code1_candid-cam_D75.wav', './AnnotatedAudioFiles/code1_candid-cam_D76.wav', './AnnotatedAudioFiles/code1_candid-cam_D77.wav', './AnnotatedAudioFiles/code1_candid-cam_D78.wav', './AnnotatedAudioFiles/code1_candid-cam_D79.wav', './AnnotatedAudioFiles/code1_candid-cam_D80.wav', './AnnotatedAudioFiles/code1_candid-cam_D81.wav', './AnnotatedAudioFiles/code1_candid-cam_D82.wav', './AnnotatedAudioFiles/code1_candid-cam_D83.wav', './AnnotatedAudioFiles/code1_candid-cam_D84.wav', './AnnotatedAudioFiles/code1_candid-cam_D85.wav', './AnnotatedAudioFiles/code1_candid-cam_D86.wav', './AnnotatedAudioFiles/code1_candid-cam_D87.wav', './AnnotatedAudioFiles/code1_candid-cam_D88.wav', './AnnotatedAudioFiles/code1_candid-cam_D89.wav', './AnnotatedAudioFiles/code1_candid-cam_D90.wav', './AnnotatedAudioFiles/code1_candid-cam_D91.wav', './AnnotatedAudioFiles/code1_candid-cam_D92.wav', './AnnotatedAudioFiles/code1_candid-cam_D93.wav', './AnnotatedAudioFiles/code1_candid-cam_D94.wav', './AnnotatedAudioFiles/code1_candid-cam_D95.wav', './AnnotatedAudioFiles/code1_candid-cam_D96.wav', './AnnotatedAudioFiles/code1_candid-cam_D97.wav', './AnnotatedAudioFiles/code1_candid-cam_D98.wav', './AnnotatedAudioFiles/code1_candid-cam_D99.wav', './AnnotatedAudioFiles/code2_disorder-man_A01_10.wav', './AnnotatedAudioFiles/code2_disorder-man_A01_15.wav', './AnnotatedAudioFiles/code2_disorder-man_A01_20.wav', './AnnotatedAudioFiles/code2_disorder-man_A01_25.wav', './AnnotatedAudioFiles/code2_disorder-man_A01_5.wav', './AnnotatedAudioFiles/code2_disorder-man_A02_10.wav', './AnnotatedAudioFiles/code2_disorder-man_A02_15.wav', './AnnotatedAudioFiles/code2_disorder-man_A02_5.wav', './AnnotatedAudioFiles/code2_disorder-man_A03_10.wav', './AnnotatedAudioFiles/code2_disorder-man_A03_15.wav', './AnnotatedAudioFiles/code2_disorder-man_A03_20.wav', './AnnotatedAudioFiles/code2_disorder-man_A03_5.wav', './AnnotatedAudioFiles/code2_disorder-man_A04_10.wav', './AnnotatedAudioFiles/code2_disorder-man_A04_15.wav', './AnnotatedAudioFiles/code2_disorder-man_A04_20.wav', './AnnotatedAudioFiles/code2_disorder-man_A04_5.wav', './AnnotatedAudioFiles/code2_disorder-man_A05_10.wav', './AnnotatedAudioFiles/code2_disorder-man_A05_15.wav', './AnnotatedAudioFiles/code2_disorder-man_A05_5.wav', './AnnotatedAudioFiles/code2_disorder-man_A06_10.wav', './AnnotatedAudioFiles/code2_disorder-man_A06_15.wav', './AnnotatedAudioFiles/code2_disorder-man_A06_20.wav', './AnnotatedAudioFiles/code2_disorder-man_A07_10.wav', './AnnotatedAudioFiles/code2_disorder-man_A07_15.wav', './AnnotatedAudioFiles/code2_disorder-man_A07_20.wav', './AnnotatedAudioFiles/code2_disorder-man_A07_5.wav', './AnnotatedAudioFiles/code2_disorder-man_A08_10.wav', './AnnotatedAudioFiles/code2_disorder-man_A08_15.wav', './AnnotatedAudioFiles/code2_disorder-man_A08_20.wav', './AnnotatedAudioFiles/code2_disorder-man_A08_5.wav', './AnnotatedAudioFiles/code2_disorder-man_A09_10.wav', './AnnotatedAudioFiles/code2_disorder-man_A09_15.wav', './AnnotatedAudioFiles/code2_disorder-man_A09_20.wav', './AnnotatedAudioFiles/code2_disorder-man_A09_5.wav', './AnnotatedAudioFiles/code2_disorder-man_A10_10.wav', './AnnotatedAudioFiles/code2_disorder-man_A10_15.wav', './AnnotatedAudioFiles/code2_disorder-man_A10_20.wav', './AnnotatedAudioFiles/code2_disorder-man_A10_5.wav', './AnnotatedAudioFiles/code2_disorder-man_A11.wav', './AnnotatedAudioFiles/code2_disorder-man_A12.wav', './AnnotatedAudioFiles/code2_disorder-man_A26.wav', './AnnotatedAudioFiles/code2_disorder-man_A27.wav', './AnnotatedAudioFiles/code2_disorder-man_A28.wav', './AnnotatedAudioFiles/code2_disorder-man_A29.wav', './AnnotatedAudioFiles/code2_disorder-man_A30.wav', './AnnotatedAudioFiles/code2_disorder-man_A31.wav', './AnnotatedAudioFiles/code2_disorder-man_A32.wav', './AnnotatedAudioFiles/code2_disorder-man_A33.wav', './AnnotatedAudioFiles/code2_disorder-man_A34.wav', './AnnotatedAudioFiles/code2_disorder-man_A35.wav', './AnnotatedAudioFiles/code2_disorder-man_D11.wav', './AnnotatedAudioFiles/code2_disorder-man_D12.wav', './AnnotatedAudioFiles/code2_disorder-man_D13.wav', './AnnotatedAudioFiles/code2_disorder-man_D14.wav', './AnnotatedAudioFiles/code2_disorder-man_D15.wav', './AnnotatedAudioFiles/code2_disorder-man_D16.wav', './AnnotatedAudioFiles/code2_disorder-man_D17.wav', './AnnotatedAudioFiles/code2_disorder-man_D18.wav', './AnnotatedAudioFiles/code2_disorder-man_D19.wav', './AnnotatedAudioFiles/code2_disorder-man_D20.wav', './AnnotatedAudioFiles/code2_disorder-woman_A13.wav', './AnnotatedAudioFiles/code2_disorder-woman_A14.wav', './AnnotatedAudioFiles/code2_disorder-woman_A15.wav', './AnnotatedAudioFiles/code2_disorder-woman_A16.wav', './AnnotatedAudioFiles/code2_disorder-woman_A17.wav', './AnnotatedAudioFiles/code2_disorder-woman_A18.wav', './AnnotatedAudioFiles/code2_disorder-woman_A19.wav', './AnnotatedAudioFiles/code2_disorder-woman_A20.wav', './AnnotatedAudioFiles/code2_disorder-woman_A21.wav', './AnnotatedAudioFiles/code2_disorder-woman_A22.wav', './AnnotatedAudioFiles/code2_disorder-woman_A23.wav', './AnnotatedAudioFiles/code2_disorder-woman_A24.wav', './AnnotatedAudioFiles/code2_disorder-woman_A25.wav', './AnnotatedAudioFiles/code2_disorder-woman_D01.wav', './AnnotatedAudioFiles/code2_disorder-woman_D02.wav', './AnnotatedAudioFiles/code2_disorder-woman_D03.wav', './AnnotatedAudioFiles/code2_disorder-woman_D04.wav', './AnnotatedAudioFiles/code2_disorder-woman_D05.wav', './AnnotatedAudioFiles/code2_disorder-woman_D06.wav', './AnnotatedAudioFiles/code2_disorder-woman_D07.wav', './AnnotatedAudioFiles/code2_disorder-woman_D08.wav', './AnnotatedAudioFiles/code2_disorder-woman_D09.wav', './AnnotatedAudioFiles/code2_disorder-woman_D10.wav', './AnnotatedAudioFiles/code2_disorder-woman_D21.wav', './AnnotatedAudioFiles/code2_disorder-woman_D22.wav', './AnnotatedAudioFiles/code2_disorder-woman_D23.wav', './AnnotatedAudioFiles/code2_disorder-woman_D24.wav', './AnnotatedAudioFiles/code2_disorder-woman_D25.wav', './AnnotatedAudioFiles/code2_disorder-woman_D26.wav', './AnnotatedAudioFiles/code2_disorder-woman_D27.wav', './AnnotatedAudioFiles/code2_disorder-woman_D29.wav', './AnnotatedAudioFiles/code2_disorder-woman_D30.wav', './AnnotatedAudioFiles/code2_disorder_01.wav', './AnnotatedAudioFiles/code2_disorder_02.wav', './AnnotatedAudioFiles/code2_disorder_03.wav', './AnnotatedAudioFiles/code2_disorder_04.wav', './AnnotatedAudioFiles/code2_disorder_05.wav', './AnnotatedAudioFiles/code2_disorder_06.wav', './AnnotatedAudioFiles/code2_disorder_07.wav', './AnnotatedAudioFiles/code2_disorder_08.wav', './AnnotatedAudioFiles/code2_disorder_09.wav', './AnnotatedAudioFiles/code2_disorder_10.wav', './AnnotatedAudioFiles/code2_disorder_11.wav', './AnnotatedAudioFiles/code2_disorder_12.wav', './AnnotatedAudioFiles/code2_disorder_13.wav', './AnnotatedAudioFiles/code2_disorder_14.wav', './AnnotatedAudioFiles/code2_disorder_15.wav', './AnnotatedAudioFiles/code2_disorder_16.wav', './AnnotatedAudioFiles/code2_disorder_17.wav', './AnnotatedAudioFiles/code2_disorder_18.wav', './AnnotatedAudioFiles/code2_disorder_19.wav', './AnnotatedAudioFiles/code2_disorder_20.wav', './AnnotatedAudioFiles/code2_disorder_21.wav', './AnnotatedAudioFiles/code2_disorder_22.wav', './AnnotatedAudioFiles/code2_disorder_23.wav', './AnnotatedAudioFiles/code2_disorder_24.wav', './AnnotatedAudioFiles/code2_disorder_B01.wav', './AnnotatedAudioFiles/code2_disorder_B02.wav', './AnnotatedAudioFiles/code2_disorder_B03.wav', './AnnotatedAudioFiles/code2_disorder_B04.wav', './AnnotatedAudioFiles/code2_disorder_B05.wav', './AnnotatedAudioFiles/code2_disorder_B06.wav', './AnnotatedAudioFiles/code2_disorder_B07.wav', './AnnotatedAudioFiles/code2_disorder_B08.wav', './AnnotatedAudioFiles/code2_disorder_B09.wav', './AnnotatedAudioFiles/code2_disorder_B10.wav', './AnnotatedAudioFiles/code2_disorder_B11.wav', './AnnotatedAudioFiles/code2_disorder_B12.wav', './AnnotatedAudioFiles/code2_disorder_B13.wav', './AnnotatedAudioFiles/code2_disorder_B14.wav', './AnnotatedAudioFiles/code2_disorder_B15.wav', './AnnotatedAudioFiles/code2_disorder_B16.wav', './AnnotatedAudioFiles/code2_disorder_B17.wav', './AnnotatedAudioFiles/code2_disorder_B18.wav', './AnnotatedAudioFiles/code2_disorder_B19.wav', './AnnotatedAudioFiles/code2_disorder_B20.wav', './AnnotatedAudioFiles/code2_drunken man_01.wav', './AnnotatedAudioFiles/code2_drunken man_02.wav', './AnnotatedAudioFiles/code2_drunken man_03.wav', './AnnotatedAudioFiles/code2_drunken man_04.wav', './AnnotatedAudioFiles/code2_drunken man_05.wav', './AnnotatedAudioFiles/code2_drunken man_06.wav', './AnnotatedAudioFiles/code2_drunken man_07.wav', './AnnotatedAudioFiles/code2_drunken man_08.wav', './AnnotatedAudioFiles/code2_drunken man_09.wav', './AnnotatedAudioFiles/code2_drunken man_10.wav', './AnnotatedAudioFiles/code2_drunken man_11.wav', './AnnotatedAudioFiles/code2_drunken man_12.wav', './AnnotatedAudioFiles/code2_drunken woman_01.wav', './AnnotatedAudioFiles/code2_drunken woman_02.wav', './AnnotatedAudioFiles/code2_drunken woman_03.wav', './AnnotatedAudioFiles/code2_drunken woman_04.wav', './AnnotatedAudioFiles/code2_drunken woman_05.wav', './AnnotatedAudioFiles/code2_drunken woman_06.wav', './AnnotatedAudioFiles/code2_drunken woman_07.wav', './AnnotatedAudioFiles/code2_drunken woman_08.wav', './AnnotatedAudioFiles/code2_drunken woman_09.wav', './AnnotatedAudioFiles/code2_drunken woman_10.wav', './AnnotatedAudioFiles/code2_drunken woman_11.wav', './AnnotatedAudioFiles/code2_drunken woman_12.wav', './AnnotatedAudioFiles/code2_drunken woman_13.wav', './AnnotatedAudioFiles/code2_drunken woman_14.wav', './AnnotatedAudioFiles/code2_drunken woman_15.wav', './AnnotatedAudioFiles/code2_drunken woman_16.wav', './AnnotatedAudioFiles/code2_drunken woman_17.wav', './AnnotatedAudioFiles/code2_drunken woman_18.wav', './AnnotatedAudioFiles/code2_drunken woman_19.wav', './AnnotatedAudioFiles/code2_drunken woman_20.wav', './AnnotatedAudioFiles/code2_drunken woman_21.wav', './AnnotatedAudioFiles/code2_drunken woman_22.wav', './AnnotatedAudioFiles/code2_flasher_A01.wav', './AnnotatedAudioFiles/code2_flasher_A02.wav', './AnnotatedAudioFiles/code2_flasher_A03.wav', './AnnotatedAudioFiles/code2_flasher_A04.wav', './AnnotatedAudioFiles/code2_flasher_A05.wav', './AnnotatedAudioFiles/code2_flasher_A06.wav', './AnnotatedAudioFiles/code2_flasher_A07.wav', './AnnotatedAudioFiles/code2_flasher_A08.wav', './AnnotatedAudioFiles/code2_flasher_A09.wav', './AnnotatedAudioFiles/code2_flasher_A10.wav', './AnnotatedAudioFiles/code2_flasher_A11.wav', './AnnotatedAudioFiles/code2_flasher_A12.wav', './AnnotatedAudioFiles/code2_flasher_A13.wav', './AnnotatedAudioFiles/code2_flasher_A14.wav', './AnnotatedAudioFiles/code2_flasher_A15.wav', './AnnotatedAudioFiles/code2_flasher_A16.wav', './AnnotatedAudioFiles/code2_flasher_A17.wav', './AnnotatedAudioFiles/code2_flasher_A18.wav', './AnnotatedAudioFiles/code2_flasher_A19.wav', './AnnotatedAudioFiles/code2_flasher_A20.wav', './AnnotatedAudioFiles/code2_flasher_A21.wav', './AnnotatedAudioFiles/code2_flasher_A22.wav', './AnnotatedAudioFiles/code2_flasher_A23.wav', './AnnotatedAudioFiles/code2_flasher_A24.wav', './AnnotatedAudioFiles/code2_flasher_A25.wav', './AnnotatedAudioFiles/code2_flasher_A26.wav', './AnnotatedAudioFiles/code2_flasher_A27.wav', './AnnotatedAudioFiles/code2_flasher_A28.wav', './AnnotatedAudioFiles/code2_flasher_A29.wav', './AnnotatedAudioFiles/code2_flasher_A30.wav', './AnnotatedAudioFiles/code2_flasher_A31.wav', './AnnotatedAudioFiles/code2_flasher_A32.wav', './AnnotatedAudioFiles/code2_flasher_A33.wav', './AnnotatedAudioFiles/code2_flasher_B01.wav', './AnnotatedAudioFiles/code2_flasher_B02.wav', './AnnotatedAudioFiles/code2_flasher_B03.wav', './AnnotatedAudioFiles/code2_flasher_B04.wav', './AnnotatedAudioFiles/code2_flasher_B05.wav', './AnnotatedAudioFiles/code2_flasher_B06.wav', './AnnotatedAudioFiles/code2_flasher_B07.wav', './AnnotatedAudioFiles/code2_flasher_B08.wav', './AnnotatedAudioFiles/code2_flasher_B09.wav', './AnnotatedAudioFiles/code2_flasher_B10.wav', './AnnotatedAudioFiles/code2_flasher_B11.wav', './AnnotatedAudioFiles/code2_flasher_B12.wav', './AnnotatedAudioFiles/code2_flasher_B13.wav', './AnnotatedAudioFiles/code2_flasher_B14.wav', './AnnotatedAudioFiles/code2_flasher_B15.wav', './AnnotatedAudioFiles/code2_flasher_B16.wav', './AnnotatedAudioFiles/code2_flasher_B17.wav', './AnnotatedAudioFiles/code2_flasher_B18.wav', './AnnotatedAudioFiles/code2_flasher_B19.wav', './AnnotatedAudioFiles/code2_flasher_B20.wav', './AnnotatedAudioFiles/code2_flasher_B21.wav', './AnnotatedAudioFiles/code2_flasher_B22.wav', './AnnotatedAudioFiles/code2_flasher_B23.wav', './AnnotatedAudioFiles/code2_flasher_B24.wav', './AnnotatedAudioFiles/code2_flasher_B25.wav', './AnnotatedAudioFiles/code2_flasher_B26.wav', './AnnotatedAudioFiles/code2_flasher_B27.wav', './AnnotatedAudioFiles/code2_flasher_B28.wav', './AnnotatedAudioFiles/code2_flasher_B29.wav', './AnnotatedAudioFiles/code2_flasher_B30.wav', './AnnotatedAudioFiles/code2_flasher_B31.wav', './AnnotatedAudioFiles/code2_flasher_B32.wav', './AnnotatedAudioFiles/code2_flasher_B33.wav', './AnnotatedAudioFiles/code2_flasher_B34.wav', './AnnotatedAudioFiles/code2_flasher_B35.wav', './AnnotatedAudioFiles/code2_flasher_B36.wav', './AnnotatedAudioFiles/code2_flasher_B37.wav', './AnnotatedAudioFiles/code2_flasher_B38.wav', './AnnotatedAudioFiles/code2_flasher_B39.wav', './AnnotatedAudioFiles/code2_flasher_B40.wav', './AnnotatedAudioFiles/code2_flasher_B41.wav', './AnnotatedAudioFiles/code2_inebriate-man_C01.wav', './AnnotatedAudioFiles/code2_inebriate-man_C02.wav', './AnnotatedAudioFiles/code2_inebriate-man_C03.wav', './AnnotatedAudioFiles/code2_inebriate-man_C04.wav', './AnnotatedAudioFiles/code2_inebriate-man_C05.wav', './AnnotatedAudioFiles/code2_inebriate-man_C06.wav', './AnnotatedAudioFiles/code2_inebriate-man_C07.wav', './AnnotatedAudioFiles/code2_inebriate-man_C08.wav', './AnnotatedAudioFiles/code2_inebriate-man_C09.wav', './AnnotatedAudioFiles/code2_inebriate-man_C10.wav', './AnnotatedAudioFiles/code2_inebriate-man_C11.wav', './AnnotatedAudioFiles/code2_inebriate-man_C12.wav', './AnnotatedAudioFiles/code2_inebriate-man_C13.wav', './AnnotatedAudioFiles/code2_inebriate-man_C14.wav', './AnnotatedAudioFiles/code2_inebriate-man_C15.wav', './AnnotatedAudioFiles/code2_inebriate-man_C31.wav', './AnnotatedAudioFiles/code2_inebriate-man_C32.wav', './AnnotatedAudioFiles/code2_inebriate-man_C33.wav', './AnnotatedAudioFiles/code2_inebriate-man_C34.wav', './AnnotatedAudioFiles/code2_inebriate-man_C35.wav', './AnnotatedAudioFiles/code2_inebriate-man_C36.wav', './AnnotatedAudioFiles/code2_inebriate-man_C37.wav', './AnnotatedAudioFiles/code2_inebriate-man_C38.wav', './AnnotatedAudioFiles/code2_inebriate-man_C39.wav', './AnnotatedAudioFiles/code2_inebriate-man_C40.wav', './AnnotatedAudioFiles/code2_inebriate-woman_C16.wav', './AnnotatedAudioFiles/code2_inebriate-woman_C17.wav', './AnnotatedAudioFiles/code2_inebriate-woman_C18.wav', './AnnotatedAudioFiles/code2_inebriate-woman_C19.wav', './AnnotatedAudioFiles/code2_inebriate-woman_C20.wav', './AnnotatedAudioFiles/code2_inebriate-woman_C21.wav', './AnnotatedAudioFiles/code2_inebriate-woman_C22.wav', './AnnotatedAudioFiles/code2_inebriate-woman_C23.wav', './AnnotatedAudioFiles/code2_inebriate-woman_C24.wav', './AnnotatedAudioFiles/code2_inebriate-woman_C25.wav', './AnnotatedAudioFiles/code2_inebriate-woman_C26.wav', './AnnotatedAudioFiles/code2_inebriate-woman_C27.wav', './AnnotatedAudioFiles/code2_inebriate-woman_C28.wav', './AnnotatedAudioFiles/code2_inebriate-woman_C29.wav', './AnnotatedAudioFiles/code2_inebriate-woman_C30.wav', './AnnotatedAudioFiles/code2_inebriate-woman_D01.wav', './AnnotatedAudioFiles/code2_inebriate-woman_D02.wav', './AnnotatedAudioFiles/code2_inebriate-woman_D03.wav', './AnnotatedAudioFiles/code2_inebriate-woman_D04.wav', './AnnotatedAudioFiles/code2_inebriate-woman_D05.wav', './AnnotatedAudioFiles/code2_inebriate-woman_D06.wav', './AnnotatedAudioFiles/code2_inebriate-woman_D07.wav', './AnnotatedAudioFiles/code2_inebriate-woman_D08.wav', './AnnotatedAudioFiles/code2_inebriate-woman_D09.wav', './AnnotatedAudioFiles/code2_inebriate-woman_D10.wav', './AnnotatedAudioFiles/code2_inebriate-woman_D11.wav', './AnnotatedAudioFiles/code2_inebriate-woman_D12.wav', './AnnotatedAudioFiles/code2_inebriate-woman_D13.wav', './AnnotatedAudioFiles/code2_inebriate-woman_D14.wav', './AnnotatedAudioFiles/code2_inebriate-woman_D15.wav', './AnnotatedAudioFiles/code2_inebriate-woman_D16.wav', './AnnotatedAudioFiles/code2_inebriate-woman_D17.wav', './AnnotatedAudioFiles/code2_inebriate-woman_D18.wav', './AnnotatedAudioFiles/code2_inebriate-woman_D19.wav', './AnnotatedAudioFiles/code2_inebriate-woman_D20.wav', './AnnotatedAudioFiles/code2_inebriate-woman_D21.wav', './AnnotatedAudioFiles/code2_inebriate-woman_D22.wav', './AnnotatedAudioFiles/code2_inebriate-woman_D23.wav', './AnnotatedAudioFiles/code2_inebriate-woman_D24.wav', './AnnotatedAudioFiles/code2_inebriate-woman_D25.wav', './AnnotatedAudioFiles/code2_inebriate-woman_E01.wav', './AnnotatedAudioFiles/code2_inebriate-woman_E02.wav', './AnnotatedAudioFiles/code2_inebriate-woman_E03.wav', './AnnotatedAudioFiles/code2_inebriate-woman_E04.wav', './AnnotatedAudioFiles/code2_inebriate-woman_E05.wav', './AnnotatedAudioFiles/code2_inebriate-woman_E06.wav', './AnnotatedAudioFiles/code2_inebriate-woman_E07.wav', './AnnotatedAudioFiles/code2_inebriate-woman_E08.wav', './AnnotatedAudioFiles/code2_inebriate-woman_E09.wav', './AnnotatedAudioFiles/code2_inebriate-woman_E10.wav', './AnnotatedAudioFiles/code2_inebriate-woman_E11.wav', './AnnotatedAudioFiles/code2_inebriate-woman_E12.wav', './AnnotatedAudioFiles/code2_inebriate-woman_E13.wav', './AnnotatedAudioFiles/code2_inebriate-woman_E14.wav', './AnnotatedAudioFiles/code2_inebriate-woman_E15.wav', './AnnotatedAudioFiles/code2_inebriate-woman_E16.wav', './AnnotatedAudioFiles/code2_inebriate-woman_E17.wav', './AnnotatedAudioFiles/code2_inebriate-woman_E18.wav', './AnnotatedAudioFiles/code2_inebriate-woman_E19.wav', './AnnotatedAudioFiles/code2_inebriate-woman_E20.wav', './AnnotatedAudioFiles/code2_inebriate-woman_E21.wav', './AnnotatedAudioFiles/code2_inebriate-woman_E22.wav', './AnnotatedAudioFiles/code2_inebriate-woman_E23.wav', './AnnotatedAudioFiles/code2_inebriate-woman_E24.wav', './AnnotatedAudioFiles/code2_inebriate-woman_E25.wav', './AnnotatedAudioFiles/code2_inebriate-woman_E26.wav', './AnnotatedAudioFiles/code2_inebriate-woman_E27.wav', './AnnotatedAudioFiles/code2_inebriate-woman_E28.wav', './AnnotatedAudioFiles/code2_inebriate-woman_E29.wav', './AnnotatedAudioFiles/code2_inebriate-woman_E30.wav', './AnnotatedAudioFiles/code2_inebriated man_A01.wav', './AnnotatedAudioFiles/code2_inebriated man_A02.wav', './AnnotatedAudioFiles/code2_inebriated man_A03.wav', './AnnotatedAudioFiles/code2_inebriated man_A04.wav', './AnnotatedAudioFiles/code2_inebriated man_A05.wav', './AnnotatedAudioFiles/code2_inebriated man_A06.wav', './AnnotatedAudioFiles/code2_inebriated man_A07.wav', './AnnotatedAudioFiles/code2_inebriated man_A08.wav', './AnnotatedAudioFiles/code2_inebriated man_A09.wav', './AnnotatedAudioFiles/code2_inebriated man_A10.wav', './AnnotatedAudioFiles/code2_inebriated man_A11.wav', './AnnotatedAudioFiles/code2_inebriated man_A12.wav', './AnnotatedAudioFiles/code2_inebriated man_A13.wav', './AnnotatedAudioFiles/code2_inebriated man_A14.wav', './AnnotatedAudioFiles/code2_inebriated man_A15.wav', './AnnotatedAudioFiles/code2_inebriated man_A41.wav', './AnnotatedAudioFiles/code2_inebriated man_A42.wav', './AnnotatedAudioFiles/code2_inebriated man_A43.wav', './AnnotatedAudioFiles/code2_inebriated man_A44.wav', './AnnotatedAudioFiles/code2_inebriated woman_A16.wav', './AnnotatedAudioFiles/code2_inebriated woman_A17.wav', './AnnotatedAudioFiles/code2_inebriated woman_A18.wav', './AnnotatedAudioFiles/code2_inebriated woman_A19.wav', './AnnotatedAudioFiles/code2_inebriated woman_A20.wav', './AnnotatedAudioFiles/code2_inebriated woman_A21.wav', './AnnotatedAudioFiles/code2_inebriated woman_A22.wav', './AnnotatedAudioFiles/code2_inebriated woman_A23.wav', './AnnotatedAudioFiles/code2_inebriated woman_A24.wav', './AnnotatedAudioFiles/code2_inebriated woman_A25.wav', './AnnotatedAudioFiles/code2_inebriated woman_A26.wav', './AnnotatedAudioFiles/code2_inebriated woman_A27.wav', './AnnotatedAudioFiles/code2_inebriated woman_A28.wav', './AnnotatedAudioFiles/code2_inebriated woman_A29.wav', './AnnotatedAudioFiles/code2_inebriated woman_A30.wav', './AnnotatedAudioFiles/code2_inebriated woman_A31.wav', './AnnotatedAudioFiles/code2_inebriated woman_A32.wav', './AnnotatedAudioFiles/code2_inebriated woman_A33.wav', './AnnotatedAudioFiles/code2_inebriated woman_A34.wav', './AnnotatedAudioFiles/code2_inebriated woman_A35.wav', './AnnotatedAudioFiles/code2_inebriated woman_A36.wav', './AnnotatedAudioFiles/code2_inebriated woman_A37.wav', './AnnotatedAudioFiles/code2_inebriated woman_A38.wav', './AnnotatedAudioFiles/code2_inebriated woman_A39.wav', './AnnotatedAudioFiles/code2_inebriated woman_A40.wav', './AnnotatedAudioFiles/code2_inebriated woman_C01.wav', './AnnotatedAudioFiles/code2_inebriated woman_C02.wav', './AnnotatedAudioFiles/code2_inebriated woman_C03.wav', './AnnotatedAudioFiles/code2_inebriated woman_C04.wav', './AnnotatedAudioFiles/code2_inebriated woman_C05.wav', './AnnotatedAudioFiles/code2_inebriated woman_C06.wav', './AnnotatedAudioFiles/code2_inebriated woman_C07.wav', './AnnotatedAudioFiles/code2_inebriated woman_C08.wav', './AnnotatedAudioFiles/code2_inebriated woman_C09.wav', './AnnotatedAudioFiles/code2_inebriated woman_C10.wav', './AnnotatedAudioFiles/code2_inebriated woman_C11.wav', './AnnotatedAudioFiles/code2_inebriated woman_C12.wav', './AnnotatedAudioFiles/code2_inebriated woman_C13.wav', './AnnotatedAudioFiles/code2_inebriated woman_C14.wav', './AnnotatedAudioFiles/code2_inebriated woman_C15.wav', './AnnotatedAudioFiles/code2_inebriated woman_C16.wav', './AnnotatedAudioFiles/code2_inebriated woman_C17.wav', './AnnotatedAudioFiles/code2_inebriated woman_C18.wav', './AnnotatedAudioFiles/code2_inebriated woman_C19.wav', './AnnotatedAudioFiles/code2_inebriated woman_C20.wav', './AnnotatedAudioFiles/code2_inebriated woman_C21.wav', './AnnotatedAudioFiles/code2_inebriated woman_C22.wav', './AnnotatedAudioFiles/code2_inebriated woman_C23.wav', './AnnotatedAudioFiles/code2_inebriated woman_C24.wav', './AnnotatedAudioFiles/code2_inebriated woman_C25.wav', './AnnotatedAudioFiles/code2_invasion_01.wav', './AnnotatedAudioFiles/code2_invasion_02.wav', './AnnotatedAudioFiles/code2_invasion_03.wav', './AnnotatedAudioFiles/code2_invasion_04.wav', './AnnotatedAudioFiles/code2_invasion_05.wav', './AnnotatedAudioFiles/code2_invasion_06.wav', './AnnotatedAudioFiles/code2_invasion_07.wav', './AnnotatedAudioFiles/code2_invasion_08.wav', './AnnotatedAudioFiles/code2_invasion_09.wav', './AnnotatedAudioFiles/code2_invasion_10.wav', './AnnotatedAudioFiles/code2_invasion_11.wav', './AnnotatedAudioFiles/code2_invasion_12.wav', './AnnotatedAudioFiles/code2_invasion_13.wav', './AnnotatedAudioFiles/code2_invasion_14.wav', './AnnotatedAudioFiles/code2_invasion_15.wav', './AnnotatedAudioFiles/code2_invasion_17.wav', './AnnotatedAudioFiles/code2_invasion_18.wav', './AnnotatedAudioFiles/code2_invasion_19.wav', './AnnotatedAudioFiles/code2_invasion_20.wav', './AnnotatedAudioFiles/code2_invasion_21.wav', './AnnotatedAudioFiles/code2_invasion_22.wav', './AnnotatedAudioFiles/code2_invasion_23.wav', './AnnotatedAudioFiles/code2_invasion_24.wav', './AnnotatedAudioFiles/code2_invasion_25.wav', './AnnotatedAudioFiles/code3_crying-man_31.wav', './AnnotatedAudioFiles/code3_crying-man_32.wav', './AnnotatedAudioFiles/code3_crying-man_33.wav', './AnnotatedAudioFiles/code3_crying-man_34.wav', './AnnotatedAudioFiles/code3_crying-man_35.wav', './AnnotatedAudioFiles/code3_crying-man_36.wav', './AnnotatedAudioFiles/code3_crying-man_37.wav', './AnnotatedAudioFiles/code3_crying-man_38.wav', './AnnotatedAudioFiles/code3_crying-man_39.wav', './AnnotatedAudioFiles/code3_crying-man_40.wav', './AnnotatedAudioFiles/code3_crying-man_A01.wav', './AnnotatedAudioFiles/code3_crying-man_A02.wav', './AnnotatedAudioFiles/code3_crying-man_A03.wav', './AnnotatedAudioFiles/code3_crying-man_A04.wav', './AnnotatedAudioFiles/code3_crying-man_A05.wav', './AnnotatedAudioFiles/code3_crying-man_A06.wav', './AnnotatedAudioFiles/code3_crying-man_A07.wav', './AnnotatedAudioFiles/code3_crying-man_A08.wav', './AnnotatedAudioFiles/code3_crying-man_A09.wav', './AnnotatedAudioFiles/code3_crying-man_A10.wav', './AnnotatedAudioFiles/code3_crying-man_A11.wav', './AnnotatedAudioFiles/code3_crying-man_A12.wav', './AnnotatedAudioFiles/code3_crying-man_A13.wav', './AnnotatedAudioFiles/code3_crying-man_A14.wav', './AnnotatedAudioFiles/code3_crying-man_A15.wav', './AnnotatedAudioFiles/code3_crying-man_A31.wav', './AnnotatedAudioFiles/code3_crying-man_A32.wav', './AnnotatedAudioFiles/code3_crying-man_A33.wav', './AnnotatedAudioFiles/code3_crying-man_A34.wav', './AnnotatedAudioFiles/code3_crying-man_A35.wav', './AnnotatedAudioFiles/code3_crying-man_A36.wav', './AnnotatedAudioFiles/code3_crying-man_A37.wav', './AnnotatedAudioFiles/code3_crying-man_A38.wav', './AnnotatedAudioFiles/code3_crying-man_A39.wav', './AnnotatedAudioFiles/code3_crying-man_A40.wav', './AnnotatedAudioFiles/code3_crying-man_A41.wav', './AnnotatedAudioFiles/code3_crying-man_A42.wav', './AnnotatedAudioFiles/code3_crying-man_A43.wav', './AnnotatedAudioFiles/code3_crying-man_A44.wav', './AnnotatedAudioFiles/code3_crying-man_A45.wav', './AnnotatedAudioFiles/code3_crying-man_B01.wav', './AnnotatedAudioFiles/code3_crying-man_B02.wav', './AnnotatedAudioFiles/code3_crying-man_B03.wav', './AnnotatedAudioFiles/code3_crying-man_B04.wav', './AnnotatedAudioFiles/code3_crying-man_B05.wav', './AnnotatedAudioFiles/code3_crying-man_B06.wav', './AnnotatedAudioFiles/code3_crying-man_B07.wav', './AnnotatedAudioFiles/code3_crying-man_B08.wav', './AnnotatedAudioFiles/code3_crying-man_B09.wav', './AnnotatedAudioFiles/code3_crying-man_B10.wav', './AnnotatedAudioFiles/code3_crying-man_B11.wav', './AnnotatedAudioFiles/code3_crying-man_B12.wav', './AnnotatedAudioFiles/code3_crying-man_B13.wav', './AnnotatedAudioFiles/code3_crying-man_B14.wav', './AnnotatedAudioFiles/code3_crying-man_B15.wav', './AnnotatedAudioFiles/code3_crying-man_B31.wav', './AnnotatedAudioFiles/code3_crying-man_B32.wav', './AnnotatedAudioFiles/code3_crying-man_B33.wav', './AnnotatedAudioFiles/code3_crying-man_B34.wav', './AnnotatedAudioFiles/code3_crying-man_B35.wav', './AnnotatedAudioFiles/code3_crying-man_B36.wav', './AnnotatedAudioFiles/code3_crying-man_B37.wav', './AnnotatedAudioFiles/code3_crying-man_B38.wav', './AnnotatedAudioFiles/code3_crying-man_B39.wav', './AnnotatedAudioFiles/code3_crying-man_B40.wav', './AnnotatedAudioFiles/code3_crying-man_C01.wav', './AnnotatedAudioFiles/code3_crying-man_C02.wav', './AnnotatedAudioFiles/code3_crying-man_C03.wav', './AnnotatedAudioFiles/code3_crying-man_C04.wav', './AnnotatedAudioFiles/code3_crying-man_C05.wav', './AnnotatedAudioFiles/code3_crying-man_C06.wav', './AnnotatedAudioFiles/code3_crying-man_C07.wav', './AnnotatedAudioFiles/code3_crying-man_C08.wav', './AnnotatedAudioFiles/code3_crying-man_C09.wav', './AnnotatedAudioFiles/code3_crying-man_C10.wav', './AnnotatedAudioFiles/code3_crying-man_C11.wav', './AnnotatedAudioFiles/code3_crying-man_C12.wav', './AnnotatedAudioFiles/code3_crying-man_C13.wav', './AnnotatedAudioFiles/code3_crying-man_C14.wav', './AnnotatedAudioFiles/code3_crying-man_C15.wav', './AnnotatedAudioFiles/code3_crying-man_C16.wav', './AnnotatedAudioFiles/code3_crying-man_C17.wav', './AnnotatedAudioFiles/code3_crying-man_C18.wav', './AnnotatedAudioFiles/code3_crying-man_C19.wav', './AnnotatedAudioFiles/code3_crying-man_C20.wav', './AnnotatedAudioFiles/code3_crying-man_C21.wav', './AnnotatedAudioFiles/code3_crying-man_C22.wav', './AnnotatedAudioFiles/code3_crying-man_C23.wav', './AnnotatedAudioFiles/code3_crying-man_C24.wav', './AnnotatedAudioFiles/code3_crying-man_C25.wav', './AnnotatedAudioFiles/code3_crying-man_C26.wav', './AnnotatedAudioFiles/code3_crying-man_C27.wav', './AnnotatedAudioFiles/code3_crying-man_C28.wav', './AnnotatedAudioFiles/code3_crying-man_C29.wav', './AnnotatedAudioFiles/code3_crying-man_C30.wav', './AnnotatedAudioFiles/code3_crying-man_C46.wav', './AnnotatedAudioFiles/code3_crying-man_C47.wav', './AnnotatedAudioFiles/code3_crying-man_C48.wav', './AnnotatedAudioFiles/code3_crying-man_C49.wav', './AnnotatedAudioFiles/code3_crying-man_C50.wav', './AnnotatedAudioFiles/code3_crying-man_C51.wav', './AnnotatedAudioFiles/code3_crying-man_C52.wav', './AnnotatedAudioFiles/code3_crying-man_C53.wav', './AnnotatedAudioFiles/code3_crying-man_C54.wav', './AnnotatedAudioFiles/code3_crying-man_C55.wav', './AnnotatedAudioFiles/code3_crying-man_C56.wav', './AnnotatedAudioFiles/code3_crying-man_C57.wav', './AnnotatedAudioFiles/code3_crying-man_C58.wav', './AnnotatedAudioFiles/code3_crying-man_C59.wav', './AnnotatedAudioFiles/code3_crying-man_C60.wav', './AnnotatedAudioFiles/code3_crying-man_D01.wav', './AnnotatedAudioFiles/code3_crying-man_D02.wav', './AnnotatedAudioFiles/code3_crying-man_D03.wav', './AnnotatedAudioFiles/code3_crying-man_D04.wav', './AnnotatedAudioFiles/code3_crying-man_D05.wav', './AnnotatedAudioFiles/code3_crying-man_D06.wav', './AnnotatedAudioFiles/code3_crying-man_D07.wav', './AnnotatedAudioFiles/code3_crying-man_D08.wav', './AnnotatedAudioFiles/code3_crying-man_D09.wav', './AnnotatedAudioFiles/code3_crying-man_D10.wav', './AnnotatedAudioFiles/code3_crying-man_D11.wav', './AnnotatedAudioFiles/code3_crying-man_D12.wav', './AnnotatedAudioFiles/code3_crying-man_D13.wav', './AnnotatedAudioFiles/code3_crying-man_D14.wav', './AnnotatedAudioFiles/code3_crying-man_D15.wav', './AnnotatedAudioFiles/code3_crying-man_D31.wav', './AnnotatedAudioFiles/code3_crying-man_D32.wav', './AnnotatedAudioFiles/code3_crying-man_D33.wav', './AnnotatedAudioFiles/code3_crying-man_D34.wav', './AnnotatedAudioFiles/code3_crying-man_D35.wav', './AnnotatedAudioFiles/code3_crying-man_D36.wav', './AnnotatedAudioFiles/code3_crying-man_D37.wav', './AnnotatedAudioFiles/code3_crying-man_D38.wav', './AnnotatedAudioFiles/code3_crying-man_D39.wav', './AnnotatedAudioFiles/code3_crying-man_D40.wav', './AnnotatedAudioFiles/code3_crying-man_D41.wav', './AnnotatedAudioFiles/code3_crying-man_D42.wav', './AnnotatedAudioFiles/code3_crying-man_D43.wav', './AnnotatedAudioFiles/code3_crying-man_D44.wav', './AnnotatedAudioFiles/code3_crying-man_D45.wav', './AnnotatedAudioFiles/code3_crying-woman_A16.wav', './AnnotatedAudioFiles/code3_crying-woman_A17.wav', './AnnotatedAudioFiles/code3_crying-woman_A18.wav', './AnnotatedAudioFiles/code3_crying-woman_A19.wav', './AnnotatedAudioFiles/code3_crying-woman_A20.wav', './AnnotatedAudioFiles/code3_crying-woman_A21.wav', './AnnotatedAudioFiles/code3_crying-woman_A22.wav', './AnnotatedAudioFiles/code3_crying-woman_A23.wav', './AnnotatedAudioFiles/code3_crying-woman_A24.wav', './AnnotatedAudioFiles/code3_crying-woman_A25.wav', './AnnotatedAudioFiles/code3_crying-woman_A26.wav', './AnnotatedAudioFiles/code3_crying-woman_A27.wav', './AnnotatedAudioFiles/code3_crying-woman_A28.wav', './AnnotatedAudioFiles/code3_crying-woman_A29.wav', './AnnotatedAudioFiles/code3_crying-woman_A30.wav', './AnnotatedAudioFiles/code3_crying-woman_A46.wav', './AnnotatedAudioFiles/code3_crying-woman_A47.wav', './AnnotatedAudioFiles/code3_crying-woman_A48.wav', './AnnotatedAudioFiles/code3_crying-woman_A49.wav', './AnnotatedAudioFiles/code3_crying-woman_A50.wav', './AnnotatedAudioFiles/code3_crying-woman_A51.wav', './AnnotatedAudioFiles/code3_crying-woman_A52.wav', './AnnotatedAudioFiles/code3_crying-woman_A53.wav', './AnnotatedAudioFiles/code3_crying-woman_A54.wav', './AnnotatedAudioFiles/code3_crying-woman_A55.wav', './AnnotatedAudioFiles/code3_crying-woman_A56.wav', './AnnotatedAudioFiles/code3_crying-woman_A57.wav', './AnnotatedAudioFiles/code3_crying-woman_A58.wav', './AnnotatedAudioFiles/code3_crying-woman_A59.wav', './AnnotatedAudioFiles/code3_crying-woman_A60.wav', './AnnotatedAudioFiles/code3_crying-woman_B16.wav', './AnnotatedAudioFiles/code3_crying-woman_B17.wav', './AnnotatedAudioFiles/code3_crying-woman_B18.wav', './AnnotatedAudioFiles/code3_crying-woman_B19.wav', './AnnotatedAudioFiles/code3_crying-woman_B20.wav', './AnnotatedAudioFiles/code3_crying-woman_B21.wav', './AnnotatedAudioFiles/code3_crying-woman_B22.wav', './AnnotatedAudioFiles/code3_crying-woman_B23.wav', './AnnotatedAudioFiles/code3_crying-woman_B24.wav', './AnnotatedAudioFiles/code3_crying-woman_B25.wav', './AnnotatedAudioFiles/code3_crying-woman_B26.wav', './AnnotatedAudioFiles/code3_crying-woman_B27.wav', './AnnotatedAudioFiles/code3_crying-woman_B28.wav', './AnnotatedAudioFiles/code3_crying-woman_B29.wav', './AnnotatedAudioFiles/code3_crying-woman_B30.wav', './AnnotatedAudioFiles/code3_crying-woman_B41.wav', './AnnotatedAudioFiles/code3_crying-woman_B42.wav', './AnnotatedAudioFiles/code3_crying-woman_B43.wav', './AnnotatedAudioFiles/code3_crying-woman_B44.wav', './AnnotatedAudioFiles/code3_crying-woman_B45.wav', './AnnotatedAudioFiles/code3_crying-woman_B46.wav', './AnnotatedAudioFiles/code3_crying-woman_B47.wav', './AnnotatedAudioFiles/code3_crying-woman_B48.wav', './AnnotatedAudioFiles/code3_crying-woman_B49.wav', './AnnotatedAudioFiles/code3_crying-woman_B50.wav', './AnnotatedAudioFiles/code3_crying-woman_C01.wav', './AnnotatedAudioFiles/code3_crying-woman_C02.wav', './AnnotatedAudioFiles/code3_crying-woman_C03.wav', './AnnotatedAudioFiles/code3_crying-woman_C04.wav', './AnnotatedAudioFiles/code3_crying-woman_C05.wav', './AnnotatedAudioFiles/code3_crying-woman_C06.wav', './AnnotatedAudioFiles/code3_crying-woman_C07.wav', './AnnotatedAudioFiles/code3_crying-woman_C08.wav', './AnnotatedAudioFiles/code3_crying-woman_C09.wav', './AnnotatedAudioFiles/code3_crying-woman_C10.wav', './AnnotatedAudioFiles/code3_crying-woman_C11.wav', './AnnotatedAudioFiles/code3_crying-woman_C12.wav', './AnnotatedAudioFiles/code3_crying-woman_C13.wav', './AnnotatedAudioFiles/code3_crying-woman_C14.wav', './AnnotatedAudioFiles/code3_crying-woman_C15.wav', './AnnotatedAudioFiles/code3_crying-woman_C16.wav', './AnnotatedAudioFiles/code3_crying-woman_C17.wav', './AnnotatedAudioFiles/code3_crying-woman_C18.wav', './AnnotatedAudioFiles/code3_crying-woman_C19.wav', './AnnotatedAudioFiles/code3_crying-woman_C20.wav', './AnnotatedAudioFiles/code3_crying-woman_C21.wav', './AnnotatedAudioFiles/code3_crying-woman_C22.wav', './AnnotatedAudioFiles/code3_crying-woman_C23.wav', './AnnotatedAudioFiles/code3_crying-woman_C24.wav', './AnnotatedAudioFiles/code3_crying-woman_C25.wav', './AnnotatedAudioFiles/code3_crying-woman_C26.wav', './AnnotatedAudioFiles/code3_crying-woman_C27.wav', './AnnotatedAudioFiles/code3_crying-woman_C28.wav', './AnnotatedAudioFiles/code3_crying-woman_C29.wav', './AnnotatedAudioFiles/code3_crying-woman_C30.wav', './AnnotatedAudioFiles/code3_crying-woman_C31.wav', './AnnotatedAudioFiles/code3_crying-woman_C32.wav', './AnnotatedAudioFiles/code3_crying-woman_C33.wav', './AnnotatedAudioFiles/code3_crying-woman_C34.wav', './AnnotatedAudioFiles/code3_crying-woman_C35.wav', './AnnotatedAudioFiles/code3_crying-woman_C36.wav', './AnnotatedAudioFiles/code3_crying-woman_C37.wav', './AnnotatedAudioFiles/code3_crying-woman_C38.wav', './AnnotatedAudioFiles/code3_crying-woman_C39.wav', './AnnotatedAudioFiles/code3_crying-woman_C40.wav', './AnnotatedAudioFiles/code3_crying-woman_C41.wav', './AnnotatedAudioFiles/code3_crying-woman_C42.wav', './AnnotatedAudioFiles/code3_crying-woman_C43.wav', './AnnotatedAudioFiles/code3_crying-woman_C44.wav', './AnnotatedAudioFiles/code3_crying-woman_C45.wav', './AnnotatedAudioFiles/code3_crying-woman_C46.wav', './AnnotatedAudioFiles/code3_crying-woman_C47.wav', './AnnotatedAudioFiles/code3_crying-woman_D16.wav', './AnnotatedAudioFiles/code3_crying-woman_D17.wav', './AnnotatedAudioFiles/code3_crying-woman_D18.wav', './AnnotatedAudioFiles/code3_crying-woman_D19.wav', './AnnotatedAudioFiles/code3_crying-woman_D20.wav', './AnnotatedAudioFiles/code3_crying-woman_D21.wav', './AnnotatedAudioFiles/code3_crying-woman_D22.wav', './AnnotatedAudioFiles/code3_crying-woman_D23.wav', './AnnotatedAudioFiles/code3_crying-woman_D24.wav', './AnnotatedAudioFiles/code3_crying-woman_D25.wav', './AnnotatedAudioFiles/code3_crying-woman_D26.wav', './AnnotatedAudioFiles/code3_crying-woman_D27.wav', './AnnotatedAudioFiles/code3_crying-woman_D28.wav', './AnnotatedAudioFiles/code3_crying-woman_D29.wav', './AnnotatedAudioFiles/code3_crying-woman_D30.wav', './AnnotatedAudioFiles/code3_crying-woman_D46.wav', './AnnotatedAudioFiles/code3_crying-woman_D47.wav', './AnnotatedAudioFiles/code3_crying-woman_D48.wav', './AnnotatedAudioFiles/code3_crying-woman_D49.wav', './AnnotatedAudioFiles/code3_crying-woman_D50.wav', './AnnotatedAudioFiles/code3_crying-woman_D51.wav', './AnnotatedAudioFiles/code3_crying-woman_D52.wav', './AnnotatedAudioFiles/code3_crying-woman_D53.wav', './AnnotatedAudioFiles/code3_crying-woman_D54.wav', './AnnotatedAudioFiles/code3_crying-woman_D55.wav', './AnnotatedAudioFiles/code3_crying-woman_D56.wav', './AnnotatedAudioFiles/code3_crying-woman_D57.wav', './AnnotatedAudioFiles/code3_crying-woman_D58.wav', './AnnotatedAudioFiles/code3_crying-woman_D59.wav', './AnnotatedAudioFiles/code3_crying-woman_D60.wav', './AnnotatedAudioFiles/code5_normal_1(time0to300).wav', './AnnotatedAudioFiles/code5_normal_1(time10200to10500).wav', './AnnotatedAudioFiles/code5_normal_1(time10500to10800).wav', './AnnotatedAudioFiles/code5_normal_1(time10800to11100).wav', './AnnotatedAudioFiles/code5_normal_1(time11100to11400).wav', './AnnotatedAudioFiles/code5_normal_1(time11400to11700).wav', './AnnotatedAudioFiles/code5_normal_1(time11700to12000).wav', './AnnotatedAudioFiles/code5_normal_1(time12000to12300).wav', './AnnotatedAudioFiles/code5_normal_1(time1200to1500).wav', './AnnotatedAudioFiles/code5_normal_1(time12300to12600).wav', './AnnotatedAudioFiles/code5_normal_1(time12600to12900).wav', './AnnotatedAudioFiles/code5_normal_1(time12900to13200).wav', './AnnotatedAudioFiles/code5_normal_1(time13200to13500).wav', './AnnotatedAudioFiles/code5_normal_1(time13500to13800).wav', './AnnotatedAudioFiles/code5_normal_1(time13800to14100).wav', './AnnotatedAudioFiles/code5_normal_1(time14100to14400).wav', './AnnotatedAudioFiles/code5_normal_1(time14400to14700).wav', './AnnotatedAudioFiles/code5_normal_1(time14700to15000).wav', './AnnotatedAudioFiles/code5_normal_1(time15000to15300).wav', './AnnotatedAudioFiles/code5_normal_1(time1500to1800).wav', './AnnotatedAudioFiles/code5_normal_1(time15300to15600).wav', './AnnotatedAudioFiles/code5_normal_1(time15600to15900).wav', './AnnotatedAudioFiles/code5_normal_1(time15900to16200).wav', './AnnotatedAudioFiles/code5_normal_1(time16200to16500).wav', './AnnotatedAudioFiles/code5_normal_1(time16500to16800).wav', './AnnotatedAudioFiles/code5_normal_1(time16800to17100).wav', './AnnotatedAudioFiles/code5_normal_1(time17100to17400).wav', './AnnotatedAudioFiles/code5_normal_1(time17400to17700).wav', './AnnotatedAudioFiles/code5_normal_1(time17700to18000).wav', './AnnotatedAudioFiles/code5_normal_1(time18000to18300).wav', './AnnotatedAudioFiles/code5_normal_1(time1800to2100).wav', './AnnotatedAudioFiles/code5_normal_1(time18300to18600).wav', './AnnotatedAudioFiles/code5_normal_1(time2100to2400).wav', './AnnotatedAudioFiles/code5_normal_1(time2400to2700).wav', './AnnotatedAudioFiles/code5_normal_1(time2700to3000).wav', './AnnotatedAudioFiles/code5_normal_1(time3000to3300).wav', './AnnotatedAudioFiles/code5_normal_1(time300to600).wav', './AnnotatedAudioFiles/code5_normal_1(time3300to3600).wav', './AnnotatedAudioFiles/code5_normal_1(time3600to3900).wav', './AnnotatedAudioFiles/code5_normal_1(time3900to4200).wav', './AnnotatedAudioFiles/code5_normal_1(time4200to4500).wav', './AnnotatedAudioFiles/code5_normal_1(time4500to4800).wav', './AnnotatedAudioFiles/code5_normal_1(time4800to5100).wav', './AnnotatedAudioFiles/code5_normal_1(time5100to5400).wav', './AnnotatedAudioFiles/code5_normal_1(time5400to5700).wav', './AnnotatedAudioFiles/code5_normal_1(time5700to6000).wav', './AnnotatedAudioFiles/code5_normal_1(time6000to6300).wav', './AnnotatedAudioFiles/code5_normal_1(time600to900).wav', './AnnotatedAudioFiles/code5_normal_1(time6300to6600).wav', './AnnotatedAudioFiles/code5_normal_1(time6600to6900).wav', './AnnotatedAudioFiles/code5_normal_1(time6900to7200).wav', './AnnotatedAudioFiles/code5_normal_1(time7200to7500).wav', './AnnotatedAudioFiles/code5_normal_1(time7500to7800).wav', './AnnotatedAudioFiles/code5_normal_1(time7800to8100).wav', './AnnotatedAudioFiles/code5_normal_1(time8100to8400).wav', './AnnotatedAudioFiles/code5_normal_1(time8400to8700).wav', './AnnotatedAudioFiles/code5_normal_1(time8700to9000).wav', './AnnotatedAudioFiles/code5_normal_1(time9000to9300).wav', './AnnotatedAudioFiles/code5_normal_1(time900to1200).wav', './AnnotatedAudioFiles/code5_normal_1(time9300to9600).wav', './AnnotatedAudioFiles/code5_normal_1(time9600to9900).wav', './AnnotatedAudioFiles/code5_normal_1(time9900to10200).wav', './AnnotatedAudioFiles/code5_normal_2(time0to300).wav', './AnnotatedAudioFiles/code5_normal_2(time10200to10500).wav', './AnnotatedAudioFiles/code5_normal_2(time10500to10800).wav', './AnnotatedAudioFiles/code5_normal_2(time10800to11100).wav', './AnnotatedAudioFiles/code5_normal_2(time11100to11400).wav', './AnnotatedAudioFiles/code5_normal_2(time11400to11700).wav', './AnnotatedAudioFiles/code5_normal_2(time11700to12000).wav', './AnnotatedAudioFiles/code5_normal_2(time12000to12300).wav', './AnnotatedAudioFiles/code5_normal_2(time1200to1500).wav', './AnnotatedAudioFiles/code5_normal_2(time12300to12600).wav', './AnnotatedAudioFiles/code5_normal_2(time12600to12900).wav', './AnnotatedAudioFiles/code5_normal_2(time12900to13200).wav', './AnnotatedAudioFiles/code5_normal_2(time13200to13500).wav', './AnnotatedAudioFiles/code5_normal_2(time13500to13800).wav', './AnnotatedAudioFiles/code5_normal_2(time13800to14100).wav', './AnnotatedAudioFiles/code5_normal_2(time14100to14400).wav', './AnnotatedAudioFiles/code5_normal_2(time14400to14700).wav', './AnnotatedAudioFiles/code5_normal_2(time14700to15000).wav', './AnnotatedAudioFiles/code5_normal_2(time15000to15300).wav', './AnnotatedAudioFiles/code5_normal_2(time1500to1800).wav', './AnnotatedAudioFiles/code5_normal_2(time15300to15600).wav', './AnnotatedAudioFiles/code5_normal_2(time15600to15900).wav', './AnnotatedAudioFiles/code5_normal_2(time15900to16200).wav', './AnnotatedAudioFiles/code5_normal_2(time16200to16500).wav', './AnnotatedAudioFiles/code5_normal_2(time16500to16800).wav', './AnnotatedAudioFiles/code5_normal_2(time16800to17100).wav', './AnnotatedAudioFiles/code5_normal_2(time17100to17400).wav', './AnnotatedAudioFiles/code5_normal_2(time17400to17700).wav', './AnnotatedAudioFiles/code5_normal_2(time17700to18000).wav', './AnnotatedAudioFiles/code5_normal_2(time18000to18300).wav', './AnnotatedAudioFiles/code5_normal_2(time1800to2100).wav', './AnnotatedAudioFiles/code5_normal_2(time18300to18600).wav', './AnnotatedAudioFiles/code5_normal_2(time2100to2400).wav', './AnnotatedAudioFiles/code5_normal_2(time2400to2700).wav', './AnnotatedAudioFiles/code5_normal_2(time2700to3000).wav', './AnnotatedAudioFiles/code5_normal_2(time3000to3300).wav', './AnnotatedAudioFiles/code5_normal_2(time300to600).wav', './AnnotatedAudioFiles/code5_normal_2(time3300to3600).wav', './AnnotatedAudioFiles/code5_normal_2(time3600to3900).wav', './AnnotatedAudioFiles/code5_normal_2(time3900to4200).wav', './AnnotatedAudioFiles/code5_normal_2(time4200to4500).wav', './AnnotatedAudioFiles/code5_normal_2(time4500to4800).wav', './AnnotatedAudioFiles/code5_normal_2(time4800to5100).wav', './AnnotatedAudioFiles/code5_normal_2(time5100to5400).wav', './AnnotatedAudioFiles/code5_normal_2(time5700to6000).wav', './AnnotatedAudioFiles/code5_normal_2(time6000to6300).wav', './AnnotatedAudioFiles/code5_normal_2(time600to900).wav', './AnnotatedAudioFiles/code5_normal_2(time6300to6600).wav', './AnnotatedAudioFiles/code5_normal_2(time6600to6900).wav', './AnnotatedAudioFiles/code5_normal_2(time6900to7200).wav', './AnnotatedAudioFiles/code5_normal_2(time7200to7500).wav', './AnnotatedAudioFiles/code5_normal_2(time7500to7800).wav', './AnnotatedAudioFiles/code5_normal_2(time7800to8100).wav', './AnnotatedAudioFiles/code5_normal_2(time8100to8400).wav', './AnnotatedAudioFiles/code5_normal_2(time8400to8700).wav', './AnnotatedAudioFiles/code5_normal_2(time8700to9000).wav', './AnnotatedAudioFiles/code5_normal_2(time9000to9300).wav', './AnnotatedAudioFiles/code5_normal_2(time900to1200).wav', './AnnotatedAudioFiles/code5_normal_2(time9300to9600).wav', './AnnotatedAudioFiles/code5_normal_2(time9600to9900).wav', './AnnotatedAudioFiles/code5_normal_2(time9900to10200).wav', './AnnotatedAudioFiles/code5_normal_3(time0to300).wav', './AnnotatedAudioFiles/code5_normal_3(time10200to10500).wav', './AnnotatedAudioFiles/code5_normal_3(time10500to10800).wav', './AnnotatedAudioFiles/code5_normal_3(time10800to11100).wav', './AnnotatedAudioFiles/code5_normal_3(time11100to11400).wav', './AnnotatedAudioFiles/code5_normal_3(time11400to11700).wav', './AnnotatedAudioFiles/code5_normal_3(time11700to12000).wav', './AnnotatedAudioFiles/code5_normal_3(time12000to12300).wav', './AnnotatedAudioFiles/code5_normal_3(time1200to1500).wav', './AnnotatedAudioFiles/code5_normal_3(time12300to12600).wav', './AnnotatedAudioFiles/code5_normal_3(time12600to12900).wav', './AnnotatedAudioFiles/code5_normal_3(time12900to13200).wav', './AnnotatedAudioFiles/code5_normal_3(time13200to13500).wav', './AnnotatedAudioFiles/code5_normal_3(time13500to13800).wav', './AnnotatedAudioFiles/code5_normal_3(time13800to14100).wav', './AnnotatedAudioFiles/code5_normal_3(time14100to14400).wav', './AnnotatedAudioFiles/code5_normal_3(time14400to14700).wav', './AnnotatedAudioFiles/code5_normal_3(time14700to15000).wav', './AnnotatedAudioFiles/code5_normal_3(time15000to15300).wav', './AnnotatedAudioFiles/code5_normal_3(time1500to1800).wav', './AnnotatedAudioFiles/code5_normal_3(time15300to15600).wav', './AnnotatedAudioFiles/code5_normal_3(time15600to15900).wav', './AnnotatedAudioFiles/code5_normal_3(time15900to16200).wav', './AnnotatedAudioFiles/code5_normal_3(time16200to16500).wav', './AnnotatedAudioFiles/code5_normal_3(time16500to16800).wav', './AnnotatedAudioFiles/code5_normal_3(time16800to17100).wav', './AnnotatedAudioFiles/code5_normal_3(time17100to17400).wav', './AnnotatedAudioFiles/code5_normal_3(time17400to17700).wav', './AnnotatedAudioFiles/code5_normal_3(time17700to18000).wav', './AnnotatedAudioFiles/code5_normal_3(time1800to2100).wav', './AnnotatedAudioFiles/code5_normal_3(time2100to2400).wav', './AnnotatedAudioFiles/code5_normal_3(time2400to2700).wav', './AnnotatedAudioFiles/code5_normal_3(time2700to3000).wav', './AnnotatedAudioFiles/code5_normal_3(time3000to3300).wav', './AnnotatedAudioFiles/code5_normal_3(time300to600).wav', './AnnotatedAudioFiles/code5_normal_3(time3300to3600).wav', './AnnotatedAudioFiles/code5_normal_3(time3600to3900).wav', './AnnotatedAudioFiles/code5_normal_3(time3900to4200).wav', './AnnotatedAudioFiles/code5_normal_3(time4200to4500).wav', './AnnotatedAudioFiles/code5_normal_3(time4500to4800).wav', './AnnotatedAudioFiles/code5_normal_3(time4800to5100).wav', './AnnotatedAudioFiles/code5_normal_3(time5100to5400).wav', './AnnotatedAudioFiles/code5_normal_3(time5400to5700).wav', './AnnotatedAudioFiles/code5_normal_3(time5700to6000).wav', './AnnotatedAudioFiles/code5_normal_3(time6000to6300).wav', './AnnotatedAudioFiles/code5_normal_3(time600to900).wav', './AnnotatedAudioFiles/code5_normal_3(time6300to6600).wav', './AnnotatedAudioFiles/code5_normal_3(time6600to6900).wav', './AnnotatedAudioFiles/code5_normal_3(time6900to7200).wav', './AnnotatedAudioFiles/code5_normal_3(time7200to7500).wav', './AnnotatedAudioFiles/code5_normal_3(time7500to7800).wav', './AnnotatedAudioFiles/code5_normal_3(time7800to8100).wav', './AnnotatedAudioFiles/code5_normal_3(time8100to8400).wav', './AnnotatedAudioFiles/code5_normal_3(time8400to8700).wav', './AnnotatedAudioFiles/code5_normal_3(time8700to9000).wav', './AnnotatedAudioFiles/code5_normal_3(time9000to9300).wav', './AnnotatedAudioFiles/code5_normal_3(time900to1200).wav', './AnnotatedAudioFiles/code5_normal_3(time9300to9600).wav', './AnnotatedAudioFiles/code5_normal_3(time9600to9900).wav', './AnnotatedAudioFiles/code5_normal_3(time9900to10200).wav']\n"
     ]
    }
   ],
   "source": [
    "print(file_names)"
   ]
  },
  {
   "cell_type": "code",
   "execution_count": 234,
   "metadata": {},
   "outputs": [],
   "source": [
    "to_df = []\n",
    "for f in file_names:\n",
    "    tmp = f.split('/')[2].split('_')[0]\n",
    "    if tmp in ('code0'):\n",
    "        to_df.append([f, int(tmp[-1]), 'violence', 1])\n",
    "    else:\n",
    "        to_df.append([f, int(tmp[-1]), 'normal', 0])"
   ]
  },
  {
   "cell_type": "code",
   "execution_count": 235,
   "metadata": {},
   "outputs": [],
   "source": [
    "df = pd.DataFrame(to_df, columns=['path', 'code', 'violence', 'label'])"
   ]
  },
  {
   "cell_type": "code",
   "execution_count": 236,
   "metadata": {},
   "outputs": [
    {
     "data": {
      "text/html": [
       "<div>\n",
       "<style scoped>\n",
       "    .dataframe tbody tr th:only-of-type {\n",
       "        vertical-align: middle;\n",
       "    }\n",
       "\n",
       "    .dataframe tbody tr th {\n",
       "        vertical-align: top;\n",
       "    }\n",
       "\n",
       "    .dataframe thead th {\n",
       "        text-align: right;\n",
       "    }\n",
       "</style>\n",
       "<table border=\"1\" class=\"dataframe\">\n",
       "  <thead>\n",
       "    <tr style=\"text-align: right;\">\n",
       "      <th></th>\n",
       "      <th>path</th>\n",
       "      <th>code</th>\n",
       "      <th>violence</th>\n",
       "      <th>label</th>\n",
       "    </tr>\n",
       "  </thead>\n",
       "  <tbody>\n",
       "    <tr>\n",
       "      <th>0</th>\n",
       "      <td>./AnnotatedAudioFiles/code0_dating-violence_01...</td>\n",
       "      <td>0</td>\n",
       "      <td>violence</td>\n",
       "      <td>1</td>\n",
       "    </tr>\n",
       "    <tr>\n",
       "      <th>1</th>\n",
       "      <td>./AnnotatedAudioFiles/code0_dating-violence_02...</td>\n",
       "      <td>0</td>\n",
       "      <td>violence</td>\n",
       "      <td>1</td>\n",
       "    </tr>\n",
       "    <tr>\n",
       "      <th>2</th>\n",
       "      <td>./AnnotatedAudioFiles/code0_dating-violence_03...</td>\n",
       "      <td>0</td>\n",
       "      <td>violence</td>\n",
       "      <td>1</td>\n",
       "    </tr>\n",
       "    <tr>\n",
       "      <th>3</th>\n",
       "      <td>./AnnotatedAudioFiles/code0_dating-violence_04...</td>\n",
       "      <td>0</td>\n",
       "      <td>violence</td>\n",
       "      <td>1</td>\n",
       "    </tr>\n",
       "    <tr>\n",
       "      <th>4</th>\n",
       "      <td>./AnnotatedAudioFiles/code0_dating-violence_05...</td>\n",
       "      <td>0</td>\n",
       "      <td>violence</td>\n",
       "      <td>1</td>\n",
       "    </tr>\n",
       "    <tr>\n",
       "      <th>...</th>\n",
       "      <td>...</td>\n",
       "      <td>...</td>\n",
       "      <td>...</td>\n",
       "      <td>...</td>\n",
       "    </tr>\n",
       "    <tr>\n",
       "      <th>1667</th>\n",
       "      <td>./AnnotatedAudioFiles/code5_normal_3(time9000t...</td>\n",
       "      <td>5</td>\n",
       "      <td>normal</td>\n",
       "      <td>0</td>\n",
       "    </tr>\n",
       "    <tr>\n",
       "      <th>1668</th>\n",
       "      <td>./AnnotatedAudioFiles/code5_normal_3(time900to...</td>\n",
       "      <td>5</td>\n",
       "      <td>normal</td>\n",
       "      <td>0</td>\n",
       "    </tr>\n",
       "    <tr>\n",
       "      <th>1669</th>\n",
       "      <td>./AnnotatedAudioFiles/code5_normal_3(time9300t...</td>\n",
       "      <td>5</td>\n",
       "      <td>normal</td>\n",
       "      <td>0</td>\n",
       "    </tr>\n",
       "    <tr>\n",
       "      <th>1670</th>\n",
       "      <td>./AnnotatedAudioFiles/code5_normal_3(time9600t...</td>\n",
       "      <td>5</td>\n",
       "      <td>normal</td>\n",
       "      <td>0</td>\n",
       "    </tr>\n",
       "    <tr>\n",
       "      <th>1671</th>\n",
       "      <td>./AnnotatedAudioFiles/code5_normal_3(time9900t...</td>\n",
       "      <td>5</td>\n",
       "      <td>normal</td>\n",
       "      <td>0</td>\n",
       "    </tr>\n",
       "  </tbody>\n",
       "</table>\n",
       "<p>1672 rows × 4 columns</p>\n",
       "</div>"
      ],
      "text/plain": [
       "                                                   path  code  violence  label\n",
       "0     ./AnnotatedAudioFiles/code0_dating-violence_01...     0  violence      1\n",
       "1     ./AnnotatedAudioFiles/code0_dating-violence_02...     0  violence      1\n",
       "2     ./AnnotatedAudioFiles/code0_dating-violence_03...     0  violence      1\n",
       "3     ./AnnotatedAudioFiles/code0_dating-violence_04...     0  violence      1\n",
       "4     ./AnnotatedAudioFiles/code0_dating-violence_05...     0  violence      1\n",
       "...                                                 ...   ...       ...    ...\n",
       "1667  ./AnnotatedAudioFiles/code5_normal_3(time9000t...     5    normal      0\n",
       "1668  ./AnnotatedAudioFiles/code5_normal_3(time900to...     5    normal      0\n",
       "1669  ./AnnotatedAudioFiles/code5_normal_3(time9300t...     5    normal      0\n",
       "1670  ./AnnotatedAudioFiles/code5_normal_3(time9600t...     5    normal      0\n",
       "1671  ./AnnotatedAudioFiles/code5_normal_3(time9900t...     5    normal      0\n",
       "\n",
       "[1672 rows x 4 columns]"
      ]
     },
     "execution_count": 236,
     "metadata": {},
     "output_type": "execute_result"
    }
   ],
   "source": [
    "df"
   ]
  },
  {
   "cell_type": "code",
   "execution_count": 237,
   "metadata": {},
   "outputs": [
    {
     "data": {
      "text/plain": [
       "normal      1244\n",
       "violence     428\n",
       "Name: violence, dtype: int64"
      ]
     },
     "execution_count": 237,
     "metadata": {},
     "output_type": "execute_result"
    }
   ],
   "source": [
    "df['violence'].value_counts()"
   ]
  },
  {
   "cell_type": "code",
   "execution_count": 159,
   "metadata": {},
   "outputs": [],
   "source": [
    "def mean_mfccs(x):\n",
    "    return [np.mean(feature) for feature in librosa.feature.mfcc(x)]\n",
    "\n",
    "def parse_audio(x):\n",
    "    return x.flatten('F')[:x.shape[0]] \n",
    "\n",
    "def get_audios():\n",
    "    train_file_names = df['path']\n",
    "    samples = []\n",
    "    for file_name in tqdm(train_file_names):\n",
    "        x, sr = sf.read(file_name, always_2d=True)\n",
    "        if not len(x) == 0:\n",
    "            x = parse_audio(x)\n",
    "            samples.append(mean_mfccs(x))\n",
    "        else:\n",
    "            print(file_name)\n",
    "    return np.array(samples)\n",
    "\n",
    "def get_samples():\n",
    "    return get_audios()"
   ]
  },
  {
   "cell_type": "code",
   "execution_count": 160,
   "metadata": {
    "scrolled": true
   },
   "outputs": [
    {
     "name": "stderr",
     "output_type": "stream",
     "text": [
      "100%|██████████| 1672/1672 [07:05<00:00,  3.93it/s]\n"
     ]
    }
   ],
   "source": [
    "X = get_samples()"
   ]
  },
  {
   "cell_type": "code",
   "execution_count": 238,
   "metadata": {},
   "outputs": [],
   "source": [
    "Y = df['code'].values"
   ]
  },
  {
   "cell_type": "code",
   "execution_count": 239,
   "metadata": {},
   "outputs": [],
   "source": [
    "x_train, x_test, y_train, y_test = train_test_split(X, Y, random_state=42)"
   ]
  },
  {
   "cell_type": "code",
   "execution_count": 240,
   "metadata": {},
   "outputs": [
    {
     "name": "stdout",
     "output_type": "stream",
     "text": [
      "Shape: (1254, 20)\n",
      "Observation: \n",
      "[-239.98212318  148.60842833  -54.19502976   36.05074913  -11.94497875\n",
      "  -10.65783343   19.2374783   -22.70349071   10.92902691    7.32373047\n",
      "   -9.52565376   12.04628607   -6.07585011    0.61865474    4.04895975\n",
      "   -6.96640298    6.52368805   -3.64322333   -3.59081268    3.1996127 ]\n",
      "Labels: [1 2 2 ... 2 3 2]\n"
     ]
    }
   ],
   "source": [
    "print(f'Shape: {x_train.shape}')\n",
    "print(f'Observation: \\n{x_train[0]}')\n",
    "print(f'Labels: {y_train}')"
   ]
  },
  {
   "cell_type": "code",
   "execution_count": 241,
   "metadata": {},
   "outputs": [
    {
     "name": "stdout",
     "output_type": "stream",
     "text": [
      "Counter({2: 333, 0: 317, 1: 269, 3: 194, 5: 141})\n"
     ]
    }
   ],
   "source": [
    "from collections import Counter\n",
    "counter = Counter(y_train)\n",
    "print(counter)"
   ]
  },
  {
   "cell_type": "code",
   "execution_count": 242,
   "metadata": {},
   "outputs": [],
   "source": [
    "# scaler = StandardScaler()\n",
    "# scaler.fit(x_train)\n",
    "# x_train_scaled = scaler.transform(x_train)\n",
    "# x_test_scaled = scaler.transform(x_test)\n",
    "\n",
    "# pca = PCA().fit(x_train_scaled)\n",
    "\n",
    "# plt.plot(np.cumsum(pca.explained_variance_ratio_))\n",
    "# plt.xlabel('Number of Components')\n",
    "# plt.ylabel('Variance (%)')\n",
    "# plt.show()"
   ]
  },
  {
   "cell_type": "code",
   "execution_count": 243,
   "metadata": {},
   "outputs": [
    {
     "data": {
      "text/plain": [
       "GridSearchCV(cv=5, estimator=KNeighborsClassifier(), n_jobs=-1,\n",
       "             param_grid={'metric': ['euclidean', 'manhattan'],\n",
       "                         'n_neighbors': [3, 5, 7, 9, 11, 15],\n",
       "                         'weights': ['uniform', 'distance']})"
      ]
     },
     "execution_count": 243,
     "metadata": {},
     "output_type": "execute_result"
    }
   ],
   "source": [
    "grid_params = {\n",
    "    'n_neighbors': [3, 5, 7, 9, 11, 15],\n",
    "    'weights': ['uniform', 'distance'],\n",
    "    'metric': ['euclidean', 'manhattan']\n",
    "}\n",
    "\n",
    "model = GridSearchCV(KNeighborsClassifier(), grid_params, cv=5, n_jobs=-1)\n",
    "model.fit(x_train, y_train)"
   ]
  },
  {
   "cell_type": "code",
   "execution_count": 244,
   "metadata": {},
   "outputs": [
    {
     "name": "stdout",
     "output_type": "stream",
     "text": [
      "Model Score: 0.9497607655502392\n",
      "Confusion Matrix: \n",
      "[[106   0   0   0   0]\n",
      " [  2  87   7   1   0]\n",
      " [  3   1  92   7   0]\n",
      " [  0   0   0  70   0]\n",
      " [  0   0   0   0  42]]\n"
     ]
    }
   ],
   "source": [
    "print(f'Model Score: {model.score(x_test, y_test)}')\n",
    ">>> Model Score: 0.9497607655502392 \n",
    "y_predict = model.predict(x_test)\n",
    "print(f'Confusion Matrix: \\n{confusion_matrix(y_predict, y_test)}')"
   ]
  },
  {
   "cell_type": "code",
   "execution_count": 245,
   "metadata": {},
   "outputs": [
    {
     "data": {
      "text/plain": [
       "{0, 1, 2, 3, 5}"
      ]
     },
     "execution_count": 245,
     "metadata": {},
     "output_type": "execute_result"
    }
   ],
   "source": [
    "set(y_predict)"
   ]
  },
  {
   "cell_type": "code",
   "execution_count": 246,
   "metadata": {},
   "outputs": [
    {
     "data": {
      "text/plain": [
       "{'metric': 'manhattan', 'n_neighbors': 5, 'weights': 'distance'}"
      ]
     },
     "execution_count": 246,
     "metadata": {},
     "output_type": "execute_result"
    }
   ],
   "source": [
    "model.best_params_"
   ]
  },
  {
   "cell_type": "code",
   "execution_count": 247,
   "metadata": {},
   "outputs": [
    {
     "name": "stdout",
     "output_type": "stream",
     "text": [
      "0.9497607655502392\n",
      "Confusion Matrix: \n",
      "[[106   0   0   0   0]\n",
      " [  2  87   7   1   0]\n",
      " [  3   1  92   7   0]\n",
      " [  0   0   0  70   0]\n",
      " [  0   0   0   0  42]]\n"
     ]
    }
   ],
   "source": [
    "from sklearn.neighbors import KNeighborsClassifier\n",
    "kn = KNeighborsClassifier(n_neighbors=5, metric='manhattan', weights='distance')\n",
    "kn.fit(x_train, y_train)\n",
    "print(kn.score(x_test, y_test))\n",
    ">>> 0.9497607655502392\n",
    "y_predict = kn.predict(x_test)\n",
    "print(f'Confusion Matrix: \\n{confusion_matrix(y_predict, y_test)}')"
   ]
  },
  {
   "cell_type": "code",
   "execution_count": 248,
   "metadata": {},
   "outputs": [],
   "source": [
    "import joblib"
   ]
  },
  {
   "cell_type": "code",
   "execution_count": 249,
   "metadata": {},
   "outputs": [
    {
     "data": {
      "text/plain": [
       "['knn_code_model_code.pkl']"
      ]
     },
     "execution_count": 249,
     "metadata": {},
     "output_type": "execute_result"
    }
   ],
   "source": [
    "joblib.dump(kn, 'knn_code_model_code.pkl')"
   ]
  },
  {
   "cell_type": "code",
   "execution_count": null,
   "metadata": {},
   "outputs": [],
   "source": []
  },
  {
   "cell_type": "code",
   "execution_count": null,
   "metadata": {},
   "outputs": [],
   "source": []
  }
 ],
 "metadata": {
  "kernelspec": {
   "display_name": "Python 3",
   "language": "python",
   "name": "python3"
  },
  "language_info": {
   "codemirror_mode": {
    "name": "ipython",
    "version": 3
   },
   "file_extension": ".py",
   "mimetype": "text/x-python",
   "name": "python",
   "nbconvert_exporter": "python",
   "pygments_lexer": "ipython3",
   "version": "3.6.9"
  }
 },
 "nbformat": 4,
 "nbformat_minor": 2
}
